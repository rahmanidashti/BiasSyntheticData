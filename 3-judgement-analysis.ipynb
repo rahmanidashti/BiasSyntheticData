{
 "cells": [
  {
   "cell_type": "markdown",
   "metadata": {},
   "source": [
    "# Autometic Judgment Analysis"
   ]
  },
  {
   "cell_type": "code",
   "execution_count": 105,
   "metadata": {},
   "outputs": [],
   "source": [
    "import pandas as pd\n",
    "import numpy as np\n",
    "import requests\n",
    "import tarfile\n",
    "import json\n",
    "import gzip\n",
    "from tqdm import tqdm\n",
    "import numpy as np\n",
    "import matplotlib.pyplot as plt\n",
    "import seaborn as sns"
   ]
  },
  {
   "cell_type": "code",
   "execution_count": 6,
   "metadata": {},
   "outputs": [],
   "source": [
    "nist_qrel_file = 'qrels/2023.qrels.pass.withDupes.txt'\n",
    "gpt4_qrel_file = 'qrels/2023.qrels.pass.gpt4.txt'\n",
    "dl_2023_queries = \"dl-2023-queries.tsv\""
   ]
  },
  {
   "cell_type": "markdown",
   "metadata": {},
   "source": [
    "## Loading Judgments"
   ]
  },
  {
   "cell_type": "code",
   "execution_count": 9,
   "metadata": {},
   "outputs": [],
   "source": [
    "# loading judged queries\n",
    "nist_qrels = pd.read_csv(nist_qrel_file, sep=' ', header=None, names=['qid', 'Q0', 'docid', 'rel'])\n",
    "# loading judged queries - GPT-4\n",
    "gpt4_qrels = pd.read_csv(gpt4_qrel_file, sep=' ', header=None, names=['qid', 'Q0', 'docid', 'rel'])"
   ]
  },
  {
   "cell_type": "code",
   "execution_count": null,
   "metadata": {},
   "outputs": [],
   "source": []
  },
  {
   "cell_type": "code",
   "execution_count": 73,
   "metadata": {},
   "outputs": [
    {
     "data": {
      "text/plain": [
       "qid\n",
       "2001010    223\n",
       "2001459    374\n",
       "2001575    191\n",
       "2002075    270\n",
       "2002168    483\n",
       "          ... \n",
       "3100825    173\n",
       "3100833    224\n",
       "3100909    337\n",
       "3100918    217\n",
       "3100922    190\n",
       "Name: qid, Length: 82, dtype: int64"
      ]
     },
     "execution_count": 73,
     "metadata": {},
     "output_type": "execute_result"
    }
   ],
   "source": [
    "nist_qrels.groupby('qid')['qid'].agg('count')"
   ]
  },
  {
   "cell_type": "code",
   "execution_count": 8,
   "metadata": {},
   "outputs": [],
   "source": [
    "queries_judged = set(nist_qrels['qid'])\n",
    "docids = set(nist_qrels['docid'])"
   ]
  },
  {
   "cell_type": "code",
   "execution_count": 74,
   "metadata": {},
   "outputs": [],
   "source": [
    "real_queries_judged = [x for x in queries_judged if x < 3000000]\n",
    "t5_queries_judged = [x for x in queries_judged if x > 3000000 and x < 3100000]\n",
    "gpt4_queries_judged = [x for x in queries_judged if x > 3100000]"
   ]
  },
  {
   "cell_type": "code",
   "execution_count": 27,
   "metadata": {},
   "outputs": [
    {
     "data": {
      "text/html": [
       "<div>\n",
       "<style scoped>\n",
       "    .dataframe tbody tr th:only-of-type {\n",
       "        vertical-align: middle;\n",
       "    }\n",
       "\n",
       "    .dataframe tbody tr th {\n",
       "        vertical-align: top;\n",
       "    }\n",
       "\n",
       "    .dataframe thead th {\n",
       "        text-align: right;\n",
       "    }\n",
       "</style>\n",
       "<table border=\"1\" class=\"dataframe\">\n",
       "  <thead>\n",
       "    <tr style=\"text-align: right;\">\n",
       "      <th></th>\n",
       "      <th>qid</th>\n",
       "      <th>qtext</th>\n",
       "    </tr>\n",
       "  </thead>\n",
       "  <tbody>\n",
       "    <tr>\n",
       "      <th>0</th>\n",
       "      <td>2000138</td>\n",
       "      <td>How does the process of digestion and metaboli...</td>\n",
       "    </tr>\n",
       "    <tr>\n",
       "      <th>1</th>\n",
       "      <td>2000438</td>\n",
       "      <td>apatite definition</td>\n",
       "    </tr>\n",
       "    <tr>\n",
       "      <th>2</th>\n",
       "      <td>2000727</td>\n",
       "      <td>calculate salary from basic pay</td>\n",
       "    </tr>\n",
       "    <tr>\n",
       "      <th>3</th>\n",
       "      <td>2000882</td>\n",
       "      <td>cerebellar disease definition</td>\n",
       "    </tr>\n",
       "    <tr>\n",
       "      <th>4</th>\n",
       "      <td>2001010</td>\n",
       "      <td>cost comparison of funerals in australia</td>\n",
       "    </tr>\n",
       "  </tbody>\n",
       "</table>\n",
       "</div>"
      ],
      "text/plain": [
       "       qid                                              qtext\n",
       "0  2000138  How does the process of digestion and metaboli...\n",
       "1  2000438                                 apatite definition\n",
       "2  2000727                    calculate salary from basic pay\n",
       "3  2000882                      cerebellar disease definition\n",
       "4  2001010           cost comparison of funerals in australia"
      ]
     },
     "execution_count": 27,
     "metadata": {},
     "output_type": "execute_result"
    }
   ],
   "source": [
    "queries = pd.read_csv(dl_2023_queries, sep='\\t', header=None, names=['qid', 'qtext'])\n",
    "queries.head()"
   ]
  },
  {
   "cell_type": "markdown",
   "metadata": {},
   "source": [
    "## Loading Documents"
   ]
  },
  {
   "cell_type": "code",
   "execution_count": 10,
   "metadata": {},
   "outputs": [],
   "source": [
    "def read_bundles(bundlenum):\n",
    "     with gzip.open(f'msmarco_v2_passage/msmarco_passage_{bundlenum}.gz','r') as fpassage:\n",
    "          for passage in fpassage:\n",
    "            json_passage = json.loads(passage.decode('utf8'))\n",
    "            if json_passage['pid'] in docids:\n",
    "                docid_to_passage[json_passage['pid']] = json_passage['passage']"
   ]
  },
  {
   "cell_type": "code",
   "execution_count": 11,
   "metadata": {},
   "outputs": [
    {
     "name": "stderr",
     "output_type": "stream",
     "text": [
      "100%|██████████| 70/70 [09:49<00:00,  8.43s/it]\n"
     ]
    }
   ],
   "source": [
    "# read TREC passagess\n",
    "docid_to_passage = {}\n",
    "\n",
    "for bundlenum in tqdm(range(0, 70)):\n",
    "    if bundlenum < 10:\n",
    "        bundlenum = f'0{str(bundlenum)}'\n",
    "    read_bundles(bundlenum=bundlenum)"
   ]
  },
  {
   "cell_type": "code",
   "execution_count": 84,
   "metadata": {},
   "outputs": [],
   "source": [
    "more_relevant_by_nist_qids = set()\n",
    "more_relevant_by_nist_docids = set()\n",
    "\n",
    "more_relevant_by_llm_qids = set()\n",
    "more_relevant_by_llm_docids = set()\n",
    "\n",
    "equal_qids = set()\n",
    "equal_docids = set()"
   ]
  },
  {
   "cell_type": "code",
   "execution_count": 85,
   "metadata": {},
   "outputs": [],
   "source": [
    "for nist_qrel, llm_qrel in zip(nist_qrels.itertuples(index=True), gpt4_qrels.itertuples(index=True)):\n",
    "    if nist_qrel.qid == llm_qrel.qid:\n",
    "        if nist_qrel.qid in (t5_queries_judged + gpt4_queries_judged):\n",
    "            if nist_qrel.docid == llm_qrel.docid:\n",
    "                if nist_qrel.rel != llm_qrel.rel:\n",
    "                    # llm gives lower score\n",
    "                    if nist_qrel.rel > llm_qrel.rel:\n",
    "                        more_relevant_by_nist_qids.add(nist_qrel.qid)\n",
    "                        more_relevant_by_nist_docids.add(nist_qrel.docid)\n",
    "                    # llm gives higher score\n",
    "                    elif nist_qrel.rel < llm_qrel.rel:\n",
    "                        more_relevant_by_llm_qids.add(nist_qrel.qid)\n",
    "                        more_relevant_by_llm_docids.add(nist_qrel.docid)\n",
    "                else:\n",
    "                    equal_qids.add(nist_qrel.qid)\n",
    "                    equal_docids.add(nist_qrel.docid)\n",
    "            else:\n",
    "                print(\"No equal docid.\")\n",
    "    else:\n",
    "        print(\"Not equal qid.\")"
   ]
  },
  {
   "cell_type": "code",
   "execution_count": 86,
   "metadata": {},
   "outputs": [
    {
     "data": {
      "text/plain": [
       "(2623, 943)"
      ]
     },
     "execution_count": 86,
     "metadata": {},
     "output_type": "execute_result"
    }
   ],
   "source": [
    "len(more_relevant_by_llm_docids), len(more_relevant_by_nist_docids)"
   ]
  },
  {
   "cell_type": "code",
   "execution_count": 87,
   "metadata": {},
   "outputs": [],
   "source": [
    "XX = (more_relevant_by_llm_docids - more_relevant_by_nist_docids) - equal_docids\n",
    "YY = (more_relevant_by_nist_docids - more_relevant_by_llm_docids) - equal_docids"
   ]
  },
  {
   "cell_type": "code",
   "execution_count": 88,
   "metadata": {},
   "outputs": [
    {
     "data": {
      "text/plain": [
       "(2526, 855)"
      ]
     },
     "execution_count": 88,
     "metadata": {},
     "output_type": "execute_result"
    }
   ],
   "source": [
    "len(XX), len(YY)"
   ]
  },
  {
   "cell_type": "code",
   "execution_count": 89,
   "metadata": {},
   "outputs": [
    {
     "name": "stdout",
     "output_type": "stream",
     "text": [
      "17.711401425178146\n"
     ]
    }
   ],
   "source": [
    "docid_sum_len = 0\n",
    "for eachitem in YY:\n",
    "        doc_len = get_doc_length(docid_to_passage[eachitem])\n",
    "        docid_sum_len += doc_len\n",
    "print(docid_sum_len / len(XX))"
   ]
  },
  {
   "cell_type": "code",
   "execution_count": 90,
   "metadata": {},
   "outputs": [
    {
     "name": "stdout",
     "output_type": "stream",
     "text": [
      "51.486144101346\n"
     ]
    }
   ],
   "source": [
    "docid_sum_len = 0\n",
    "for eachitem in XX:\n",
    "        doc_len = get_doc_length(docid_to_passage[eachitem])\n",
    "        docid_sum_len += doc_len\n",
    "print(docid_sum_len / len(XX))"
   ]
  },
  {
   "cell_type": "code",
   "execution_count": 68,
   "metadata": {},
   "outputs": [
    {
     "data": {
      "text/plain": [
       "(81, 81)"
      ]
     },
     "execution_count": 68,
     "metadata": {},
     "output_type": "execute_result"
    }
   ],
   "source": [
    "len(more_relevant_by_llm_qids), len(more_relevant_by_nist_qids)"
   ]
  },
  {
   "cell_type": "markdown",
   "metadata": {},
   "source": [
    "- for all queries made the wrong prediction"
   ]
  },
  {
   "cell_type": "code",
   "execution_count": 69,
   "metadata": {},
   "outputs": [
    {
     "data": {
      "text/plain": [
       "82"
      ]
     },
     "execution_count": 69,
     "metadata": {},
     "output_type": "execute_result"
    }
   ],
   "source": [
    "len(equal_qids)"
   ]
  },
  {
   "cell_type": "markdown",
   "metadata": {},
   "source": [
    "1. Getting average document length"
   ]
  },
  {
   "cell_type": "code",
   "execution_count": 17,
   "metadata": {},
   "outputs": [],
   "source": [
    "def get_query_length(query_text):\n",
    "    query_len = len(query_text.split(' '))\n",
    "    if query_len >= 10:\n",
    "        # long query == 1\n",
    "        query_len_type = 1\n",
    "    else:\n",
    "        # short query == 0\n",
    "        query_len_type = 0\n",
    "    return query_len_type, query_len"
   ]
  },
  {
   "cell_type": "code",
   "execution_count": 16,
   "metadata": {},
   "outputs": [],
   "source": [
    "def get_doc_length(passage):\n",
    "    passage_len = len(passage.split(' '))\n",
    "    return passage_len"
   ]
  },
  {
   "cell_type": "code",
   "execution_count": 18,
   "metadata": {},
   "outputs": [],
   "source": [
    "passages_len = []\n",
    "for eachline in nist_qrels.itertuples(index=True):\n",
    "        doc_len = get_doc_length(docid_to_passage[eachline.docid])\n",
    "        passages_len.append(doc_len)"
   ]
  },
  {
   "cell_type": "code",
   "execution_count": 26,
   "metadata": {},
   "outputs": [
    {
     "data": {
      "text/plain": [
       "22327"
      ]
     },
     "execution_count": 26,
     "metadata": {},
     "output_type": "execute_result"
    }
   ],
   "source": [
    "len(passages_len)"
   ]
  },
  {
   "cell_type": "code",
   "execution_count": 21,
   "metadata": {},
   "outputs": [
    {
     "data": {
      "text/plain": [
       "145.6498857885072"
      ]
     },
     "execution_count": 21,
     "metadata": {},
     "output_type": "execute_result"
    }
   ],
   "source": [
    "np.average(passages_len)"
   ]
  },
  {
   "cell_type": "code",
   "execution_count": 27,
   "metadata": {},
   "outputs": [
    {
     "name": "stdout",
     "output_type": "stream",
     "text": [
      "11577\n"
     ]
    }
   ],
   "source": [
    "c = 0\n",
    "for passage_len in passages_len:\n",
    "    if passage_len > 50:\n",
    "        c+=1\n",
    "print(c)"
   ]
  },
  {
   "cell_type": "markdown",
   "metadata": {},
   "source": [
    "## Bland Altman Plot"
   ]
  },
  {
   "cell_type": "code",
   "execution_count": 116,
   "metadata": {},
   "outputs": [
    {
     "name": "stdout",
     "output_type": "stream",
     "text": [
      "Bias (Mean Difference): -0.28\n"
     ]
    },
    {
     "data": {
      "image/png": "[encoded data removed]",
      "text/plain": [
       "<Figure size 800x600 with 1 Axes>"
      ]
     },
     "metadata": {},
     "output_type": "display_data"
    }
   ],
   "source": [
    "# Example categorical relevance scores (human and LLM)\n",
    "human_scores = nist_qrels['rel']\n",
    "llm_scores = gpt4_qrels['rel']\n",
    "\n",
    "# Calculate the differences between human and LLM scores\n",
    "diff_scores = human_scores - llm_scores\n",
    "\n",
    "# Calculate the bias (mean difference)\n",
    "bias = np.mean(diff_scores)\n",
    "\n",
    "# Print the bias\n",
    "print(f'Bias (Mean Difference): {bias:.2f}')\n",
    "\n",
    "# Bland-Altman Plot function\n",
    "def bland_altman_plot(data1, data2):\n",
    "    mean_scores = np.mean([data1, data2], axis=0)\n",
    "    diff_scores = data1 - data2\n",
    "    mean_diff = np.mean(diff_scores)\n",
    "    std_diff = np.std(diff_scores)\n",
    "    \n",
    "    plt.figure(figsize=(8, 6))\n",
    "    plt.scatter(mean_scores, diff_scores, color='blue', alpha=0.5)\n",
    "    plt.axhline(mean_diff, color='red', linestyle='--', label=f'Bias: {mean_diff:.2f}')\n",
    "    plt.axhline(mean_diff + 1.96*std_diff, color='gray', linestyle='--', label='95% Limits of Agreement')\n",
    "    plt.axhline(mean_diff - 1.96*std_diff, color='gray', linestyle='--')\n",
    "    # plt.title('Bland-Altman Plot for Categorical Scores')\n",
    "    plt.xlabel('Mean Score (LLM and Human)')\n",
    "    plt.ylabel('Difference Score (LLM - Human)')\n",
    "    plt.yticks(np.arange(-3, 4, step=1))\n",
    "    plt.xticks(np.arange(0, 4, step=0.5))\n",
    "    plt.legend()\n",
    "    plt.savefig(\"figs/bland_altman_plot_scores.pdf\", bbox_inches=\"tight\")\n",
    "\n",
    "# Run the Bland-Altman Plot\n",
    "bland_altman_plot(human_scores, llm_scores)\n"
   ]
  },
  {
   "cell_type": "code",
   "execution_count": null,
   "metadata": {},
   "outputs": [],
   "source": []
  }
 ],
 "metadata": {
  "kernelspec": {
   "display_name": "Python 3",
   "language": "python",
   "name": "python3"
  },
  "language_info": {
   "codemirror_mode": {
    "name": "ipython",
    "version": 3
   },
   "file_extension": ".py",
   "mimetype": "text/x-python",
   "name": "python",
   "nbconvert_exporter": "python",
   "pygments_lexer": "ipython3",
   "version": "3.11.5"
  }
 },
 "nbformat": 4,
 "nbformat_minor": 2
}
