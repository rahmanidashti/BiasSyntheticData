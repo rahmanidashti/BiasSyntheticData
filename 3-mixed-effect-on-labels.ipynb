{
 "cells": [
  {
   "cell_type": "markdown",
   "metadata": {},
   "source": [
    "# LLM Judgment - Human Judgment as a Target\n",
    "\n",
    "This experiments applied the signed differecnes of LLM labels and human labels as a target for analysis the features."
   ]
  },
  {
   "cell_type": "code",
   "execution_count": 1,
   "metadata": {},
   "outputs": [],
   "source": [
    "import pandas as pd\n",
    "import glob\n",
    "import statsmodels.api as sm"
   ]
  },
  {
   "cell_type": "code",
   "execution_count": 10,
   "metadata": {},
   "outputs": [],
   "source": [
    "# Load each text file into a DataFrame\n",
    "qrel_human_df = pd.read_csv('./qrels/2023.qrels.pass.withDupes.txt', delimiter=' ', header=None, names=['qid', 'Q0', 'docid', 'label'])  # adjust delimiter if necessary\n",
    "qrel_llm_df = pd.read_csv('./qrels/2023.qrels.pass.gpt4.txt', delimiter=' ', header=None, names=['qid', 'Q0', 'docid', 'label'])\n",
    "\n",
    "# Merge the two DataFrames based on a common column, e.g., 'id'\n",
    "qrels_df = pd.merge(qrel_human_df, qrel_llm_df, on=['qid', 'docid'])\n",
    "\n",
    "qrels_df.drop(['Q0_x'], axis=1, inplace=True)\n",
    "qrels_df.drop(['Q0_y'], axis=1, inplace=True)\n",
    "\n",
    "qrels_df.rename(columns={'label_x': 'label_human'}, inplace=True)\n",
    "qrels_df.rename(columns={'label_y': 'label_llm'}, inplace=True)\n",
    "\n",
    "qrels_df['llm_human_diff'] = qrels_df['label_llm'] - qrels_df['label_human']\n",
    "\n",
    "# Display or save the merged DataFrame\n",
    "# print(qrels_df['llm-human'])"
   ]
  },
  {
   "cell_type": "code",
   "execution_count": 11,
   "metadata": {},
   "outputs": [],
   "source": [
    "queries_judged = set(qrels_df['qid'])\n",
    "real_queries_judged = [x for x in queries_judged if x < 3000000]\n",
    "t5_queries_judged = [x for x in queries_judged if x > 3000000 and x < 3100000]\n",
    "gpt4_queries_judged = [x for x in queries_judged if x > 3100000]"
   ]
  },
  {
   "cell_type": "code",
   "execution_count": 12,
   "metadata": {},
   "outputs": [],
   "source": [
    "qid_to_info = pd.read_csv(\"infos/query_to_info.txt\", sep='\\t')\n",
    "doc_to_info = pd.read_csv(\"infos/doc_to_info.txt\", sep='\\t')"
   ]
  },
  {
   "cell_type": "code",
   "execution_count": 13,
   "metadata": {},
   "outputs": [],
   "source": [
    "data = pd.merge(qrels_df, qid_to_info, on='qid')\n",
    "data = pd.merge(data, doc_to_info, on='docid')"
   ]
  },
  {
   "cell_type": "code",
   "execution_count": 6,
   "metadata": {},
   "outputs": [
    {
     "data": {
      "text/html": [
       "<div>\n",
       "<style scoped>\n",
       "    .dataframe tbody tr th:only-of-type {\n",
       "        vertical-align: middle;\n",
       "    }\n",
       "\n",
       "    .dataframe tbody tr th {\n",
       "        vertical-align: top;\n",
       "    }\n",
       "\n",
       "    .dataframe thead th {\n",
       "        text-align: right;\n",
       "    }\n",
       "</style>\n",
       "<table border=\"1\" class=\"dataframe\">\n",
       "  <thead>\n",
       "    <tr style=\"text-align: right;\">\n",
       "      <th></th>\n",
       "      <th>qid</th>\n",
       "      <th>docid</th>\n",
       "      <th>label_human</th>\n",
       "      <th>label_llm</th>\n",
       "      <th>llm_human_diff</th>\n",
       "      <th>QL</th>\n",
       "      <th>QDR</th>\n",
       "      <th>QDS</th>\n",
       "      <th>QW</th>\n",
       "      <th>DL</th>\n",
       "      <th>isSynthetic</th>\n",
       "      <th>isGPT4</th>\n",
       "      <th>DW</th>\n",
       "    </tr>\n",
       "  </thead>\n",
       "  <tbody>\n",
       "    <tr>\n",
       "      <th>0</th>\n",
       "      <td>2001010</td>\n",
       "      <td>msmarco_passage_00_257661787</td>\n",
       "      <td>0</td>\n",
       "      <td>0</td>\n",
       "      <td>0</td>\n",
       "      <td>0</td>\n",
       "      <td>0.784</td>\n",
       "      <td>0.7023</td>\n",
       "      <td>6</td>\n",
       "      <td>72.5291</td>\n",
       "      <td>0</td>\n",
       "      <td>0</td>\n",
       "      <td>56</td>\n",
       "    </tr>\n",
       "    <tr>\n",
       "      <th>1</th>\n",
       "      <td>2001010</td>\n",
       "      <td>msmarco_passage_00_257662430</td>\n",
       "      <td>0</td>\n",
       "      <td>0</td>\n",
       "      <td>0</td>\n",
       "      <td>0</td>\n",
       "      <td>0.784</td>\n",
       "      <td>0.7023</td>\n",
       "      <td>6</td>\n",
       "      <td>72.5291</td>\n",
       "      <td>0</td>\n",
       "      <td>0</td>\n",
       "      <td>43</td>\n",
       "    </tr>\n",
       "    <tr>\n",
       "      <th>2</th>\n",
       "      <td>2001010</td>\n",
       "      <td>msmarco_passage_00_257664103</td>\n",
       "      <td>0</td>\n",
       "      <td>0</td>\n",
       "      <td>0</td>\n",
       "      <td>0</td>\n",
       "      <td>0.784</td>\n",
       "      <td>0.7023</td>\n",
       "      <td>6</td>\n",
       "      <td>72.5291</td>\n",
       "      <td>0</td>\n",
       "      <td>0</td>\n",
       "      <td>46</td>\n",
       "    </tr>\n",
       "    <tr>\n",
       "      <th>3</th>\n",
       "      <td>2001010</td>\n",
       "      <td>msmarco_passage_00_729310942</td>\n",
       "      <td>0</td>\n",
       "      <td>1</td>\n",
       "      <td>1</td>\n",
       "      <td>0</td>\n",
       "      <td>0.784</td>\n",
       "      <td>0.7023</td>\n",
       "      <td>6</td>\n",
       "      <td>72.5291</td>\n",
       "      <td>0</td>\n",
       "      <td>0</td>\n",
       "      <td>47</td>\n",
       "    </tr>\n",
       "    <tr>\n",
       "      <th>4</th>\n",
       "      <td>2001010</td>\n",
       "      <td>msmarco_passage_00_729315698</td>\n",
       "      <td>1</td>\n",
       "      <td>1</td>\n",
       "      <td>0</td>\n",
       "      <td>0</td>\n",
       "      <td>0.784</td>\n",
       "      <td>0.7023</td>\n",
       "      <td>6</td>\n",
       "      <td>72.5291</td>\n",
       "      <td>0</td>\n",
       "      <td>0</td>\n",
       "      <td>45</td>\n",
       "    </tr>\n",
       "    <tr>\n",
       "      <th>5</th>\n",
       "      <td>2001010</td>\n",
       "      <td>msmarco_passage_00_729382608</td>\n",
       "      <td>1</td>\n",
       "      <td>0</td>\n",
       "      <td>1</td>\n",
       "      <td>0</td>\n",
       "      <td>0.784</td>\n",
       "      <td>0.7023</td>\n",
       "      <td>6</td>\n",
       "      <td>72.5291</td>\n",
       "      <td>0</td>\n",
       "      <td>0</td>\n",
       "      <td>53</td>\n",
       "    </tr>\n",
       "    <tr>\n",
       "      <th>6</th>\n",
       "      <td>2001010</td>\n",
       "      <td>msmarco_passage_00_729386217</td>\n",
       "      <td>1</td>\n",
       "      <td>0</td>\n",
       "      <td>1</td>\n",
       "      <td>0</td>\n",
       "      <td>0.784</td>\n",
       "      <td>0.7023</td>\n",
       "      <td>6</td>\n",
       "      <td>72.5291</td>\n",
       "      <td>0</td>\n",
       "      <td>0</td>\n",
       "      <td>55</td>\n",
       "    </tr>\n",
       "    <tr>\n",
       "      <th>7</th>\n",
       "      <td>2001010</td>\n",
       "      <td>msmarco_passage_00_729411995</td>\n",
       "      <td>1</td>\n",
       "      <td>2</td>\n",
       "      <td>1</td>\n",
       "      <td>0</td>\n",
       "      <td>0.784</td>\n",
       "      <td>0.7023</td>\n",
       "      <td>6</td>\n",
       "      <td>72.5291</td>\n",
       "      <td>0</td>\n",
       "      <td>0</td>\n",
       "      <td>59</td>\n",
       "    </tr>\n",
       "    <tr>\n",
       "      <th>8</th>\n",
       "      <td>2001010</td>\n",
       "      <td>msmarco_passage_00_729434403</td>\n",
       "      <td>1</td>\n",
       "      <td>0</td>\n",
       "      <td>1</td>\n",
       "      <td>0</td>\n",
       "      <td>0.784</td>\n",
       "      <td>0.7023</td>\n",
       "      <td>6</td>\n",
       "      <td>72.5291</td>\n",
       "      <td>0</td>\n",
       "      <td>0</td>\n",
       "      <td>66</td>\n",
       "    </tr>\n",
       "    <tr>\n",
       "      <th>9</th>\n",
       "      <td>2001010</td>\n",
       "      <td>msmarco_passage_01_221183941</td>\n",
       "      <td>0</td>\n",
       "      <td>0</td>\n",
       "      <td>0</td>\n",
       "      <td>0</td>\n",
       "      <td>0.784</td>\n",
       "      <td>0.7023</td>\n",
       "      <td>6</td>\n",
       "      <td>72.5291</td>\n",
       "      <td>0</td>\n",
       "      <td>0</td>\n",
       "      <td>66</td>\n",
       "    </tr>\n",
       "    <tr>\n",
       "      <th>10</th>\n",
       "      <td>2001010</td>\n",
       "      <td>msmarco_passage_01_26588319</td>\n",
       "      <td>1</td>\n",
       "      <td>1</td>\n",
       "      <td>0</td>\n",
       "      <td>0</td>\n",
       "      <td>0.784</td>\n",
       "      <td>0.7023</td>\n",
       "      <td>6</td>\n",
       "      <td>72.5291</td>\n",
       "      <td>0</td>\n",
       "      <td>0</td>\n",
       "      <td>51</td>\n",
       "    </tr>\n",
       "    <tr>\n",
       "      <th>11</th>\n",
       "      <td>2001010</td>\n",
       "      <td>msmarco_passage_01_766757222</td>\n",
       "      <td>0</td>\n",
       "      <td>0</td>\n",
       "      <td>0</td>\n",
       "      <td>0</td>\n",
       "      <td>0.784</td>\n",
       "      <td>0.7023</td>\n",
       "      <td>6</td>\n",
       "      <td>72.5291</td>\n",
       "      <td>0</td>\n",
       "      <td>0</td>\n",
       "      <td>47</td>\n",
       "    </tr>\n",
       "    <tr>\n",
       "      <th>12</th>\n",
       "      <td>2001010</td>\n",
       "      <td>msmarco_passage_02_314584515</td>\n",
       "      <td>1</td>\n",
       "      <td>1</td>\n",
       "      <td>0</td>\n",
       "      <td>0</td>\n",
       "      <td>0.784</td>\n",
       "      <td>0.7023</td>\n",
       "      <td>6</td>\n",
       "      <td>72.5291</td>\n",
       "      <td>0</td>\n",
       "      <td>0</td>\n",
       "      <td>53</td>\n",
       "    </tr>\n",
       "    <tr>\n",
       "      <th>13</th>\n",
       "      <td>2001010</td>\n",
       "      <td>msmarco_passage_02_315600476</td>\n",
       "      <td>1</td>\n",
       "      <td>1</td>\n",
       "      <td>0</td>\n",
       "      <td>0</td>\n",
       "      <td>0.784</td>\n",
       "      <td>0.7023</td>\n",
       "      <td>6</td>\n",
       "      <td>72.5291</td>\n",
       "      <td>0</td>\n",
       "      <td>0</td>\n",
       "      <td>53</td>\n",
       "    </tr>\n",
       "    <tr>\n",
       "      <th>14</th>\n",
       "      <td>2001010</td>\n",
       "      <td>msmarco_passage_02_315953928</td>\n",
       "      <td>1</td>\n",
       "      <td>1</td>\n",
       "      <td>0</td>\n",
       "      <td>0</td>\n",
       "      <td>0.784</td>\n",
       "      <td>0.7023</td>\n",
       "      <td>6</td>\n",
       "      <td>72.5291</td>\n",
       "      <td>0</td>\n",
       "      <td>0</td>\n",
       "      <td>53</td>\n",
       "    </tr>\n",
       "    <tr>\n",
       "      <th>15</th>\n",
       "      <td>2001010</td>\n",
       "      <td>msmarco_passage_02_575448771</td>\n",
       "      <td>1</td>\n",
       "      <td>1</td>\n",
       "      <td>0</td>\n",
       "      <td>0</td>\n",
       "      <td>0.784</td>\n",
       "      <td>0.7023</td>\n",
       "      <td>6</td>\n",
       "      <td>72.5291</td>\n",
       "      <td>0</td>\n",
       "      <td>0</td>\n",
       "      <td>66</td>\n",
       "    </tr>\n",
       "    <tr>\n",
       "      <th>16</th>\n",
       "      <td>2001010</td>\n",
       "      <td>msmarco_passage_02_575627588</td>\n",
       "      <td>0</td>\n",
       "      <td>0</td>\n",
       "      <td>0</td>\n",
       "      <td>0</td>\n",
       "      <td>0.784</td>\n",
       "      <td>0.7023</td>\n",
       "      <td>6</td>\n",
       "      <td>72.5291</td>\n",
       "      <td>0</td>\n",
       "      <td>0</td>\n",
       "      <td>72</td>\n",
       "    </tr>\n",
       "    <tr>\n",
       "      <th>17</th>\n",
       "      <td>2001010</td>\n",
       "      <td>msmarco_passage_02_749144840</td>\n",
       "      <td>1</td>\n",
       "      <td>1</td>\n",
       "      <td>0</td>\n",
       "      <td>0</td>\n",
       "      <td>0.784</td>\n",
       "      <td>0.7023</td>\n",
       "      <td>6</td>\n",
       "      <td>72.5291</td>\n",
       "      <td>0</td>\n",
       "      <td>0</td>\n",
       "      <td>38</td>\n",
       "    </tr>\n",
       "    <tr>\n",
       "      <th>18</th>\n",
       "      <td>2001010</td>\n",
       "      <td>msmarco_passage_03_223409182</td>\n",
       "      <td>0</td>\n",
       "      <td>0</td>\n",
       "      <td>0</td>\n",
       "      <td>0</td>\n",
       "      <td>0.784</td>\n",
       "      <td>0.7023</td>\n",
       "      <td>6</td>\n",
       "      <td>72.5291</td>\n",
       "      <td>0</td>\n",
       "      <td>0</td>\n",
       "      <td>44</td>\n",
       "    </tr>\n",
       "    <tr>\n",
       "      <th>19</th>\n",
       "      <td>2001010</td>\n",
       "      <td>msmarco_passage_03_301199753</td>\n",
       "      <td>0</td>\n",
       "      <td>0</td>\n",
       "      <td>0</td>\n",
       "      <td>0</td>\n",
       "      <td>0.784</td>\n",
       "      <td>0.7023</td>\n",
       "      <td>6</td>\n",
       "      <td>72.5291</td>\n",
       "      <td>0</td>\n",
       "      <td>0</td>\n",
       "      <td>73</td>\n",
       "    </tr>\n",
       "  </tbody>\n",
       "</table>\n",
       "</div>"
      ],
      "text/plain": [
       "        qid                         docid  label_human  label_llm  \\\n",
       "0   2001010  msmarco_passage_00_257661787            0          0   \n",
       "1   2001010  msmarco_passage_00_257662430            0          0   \n",
       "2   2001010  msmarco_passage_00_257664103            0          0   \n",
       "3   2001010  msmarco_passage_00_729310942            0          1   \n",
       "4   2001010  msmarco_passage_00_729315698            1          1   \n",
       "5   2001010  msmarco_passage_00_729382608            1          0   \n",
       "6   2001010  msmarco_passage_00_729386217            1          0   \n",
       "7   2001010  msmarco_passage_00_729411995            1          2   \n",
       "8   2001010  msmarco_passage_00_729434403            1          0   \n",
       "9   2001010  msmarco_passage_01_221183941            0          0   \n",
       "10  2001010   msmarco_passage_01_26588319            1          1   \n",
       "11  2001010  msmarco_passage_01_766757222            0          0   \n",
       "12  2001010  msmarco_passage_02_314584515            1          1   \n",
       "13  2001010  msmarco_passage_02_315600476            1          1   \n",
       "14  2001010  msmarco_passage_02_315953928            1          1   \n",
       "15  2001010  msmarco_passage_02_575448771            1          1   \n",
       "16  2001010  msmarco_passage_02_575627588            0          0   \n",
       "17  2001010  msmarco_passage_02_749144840            1          1   \n",
       "18  2001010  msmarco_passage_03_223409182            0          0   \n",
       "19  2001010  msmarco_passage_03_301199753            0          0   \n",
       "\n",
       "    llm_human_diff  QL    QDR     QDS  QW       DL  isSynthetic  isGPT4  DW  \n",
       "0                0   0  0.784  0.7023   6  72.5291            0       0  56  \n",
       "1                0   0  0.784  0.7023   6  72.5291            0       0  43  \n",
       "2                0   0  0.784  0.7023   6  72.5291            0       0  46  \n",
       "3                1   0  0.784  0.7023   6  72.5291            0       0  47  \n",
       "4                0   0  0.784  0.7023   6  72.5291            0       0  45  \n",
       "5                1   0  0.784  0.7023   6  72.5291            0       0  53  \n",
       "6                1   0  0.784  0.7023   6  72.5291            0       0  55  \n",
       "7                1   0  0.784  0.7023   6  72.5291            0       0  59  \n",
       "8                1   0  0.784  0.7023   6  72.5291            0       0  66  \n",
       "9                0   0  0.784  0.7023   6  72.5291            0       0  66  \n",
       "10               0   0  0.784  0.7023   6  72.5291            0       0  51  \n",
       "11               0   0  0.784  0.7023   6  72.5291            0       0  47  \n",
       "12               0   0  0.784  0.7023   6  72.5291            0       0  53  \n",
       "13               0   0  0.784  0.7023   6  72.5291            0       0  53  \n",
       "14               0   0  0.784  0.7023   6  72.5291            0       0  53  \n",
       "15               0   0  0.784  0.7023   6  72.5291            0       0  66  \n",
       "16               0   0  0.784  0.7023   6  72.5291            0       0  72  \n",
       "17               0   0  0.784  0.7023   6  72.5291            0       0  38  \n",
       "18               0   0  0.784  0.7023   6  72.5291            0       0  44  \n",
       "19               0   0  0.784  0.7023   6  72.5291            0       0  73  "
      ]
     },
     "execution_count": 6,
     "metadata": {},
     "output_type": "execute_result"
    }
   ],
   "source": [
    "data.head(20)\n",
    "#data.describe"
   ]
  },
  {
   "cell_type": "code",
   "execution_count": 7,
   "metadata": {},
   "outputs": [],
   "source": [
    "mixed_model = \"llm_human_diff ~ QL + QW + isSynthetic + DW\""
   ]
  },
  {
   "cell_type": "code",
   "execution_count": 8,
   "metadata": {},
   "outputs": [],
   "source": [
    "## Function to check model assumptions \n",
    "import matplotlib.pyplot as plt\n",
    "import scipy.stats as stats\n",
    "import matplotlib.pyplot as plt\n",
    "\n",
    "def plot_residuals(result):\n",
    "    \n",
    "    # Extract residuals and fitted values\n",
    "    residuals = result.resid\n",
    "    fitted_values = result.fittedvalues\n",
    "\n",
    "    # Q-Q plot\n",
    "    plt.figure(figsize=(8, 6))\n",
    "    stats.probplot(residuals, dist=\"norm\", plot=plt)\n",
    "    plt.title('Q-Q Plot')\n",
    "    plt.show()\n",
    "\n",
    "    # Histogram of residuals\n",
    "    plt.figure(figsize=(8, 6))\n",
    "    plt.hist(residuals, bins=30, edgecolor='k')\n",
    "    plt.title('Histogram of Residuals')\n",
    "    plt.xlabel('Residuals')\n",
    "    plt.ylabel('Frequency')\n",
    "    plt.show()\n",
    "\n",
    "    # Residuals vs. Fitted values\n",
    "    plt.figure(figsize=(8, 6))\n",
    "    plt.scatter(fitted_values, residuals, alpha=0.5)\n",
    "    plt.axhline(0, color='red', linestyle='--')\n",
    "    plt.xlabel('Fitted Values')\n",
    "    plt.ylabel('Residuals')\n",
    "    plt.title('Residuals vs Fitted Values')\n",
    "    plt.show()"
   ]
  },
  {
   "cell_type": "code",
   "execution_count": 19,
   "metadata": {},
   "outputs": [
    {
     "data": {
      "text/html": [
       "<table class=\"simpletable\">\n",
       "<tr>\n",
       "       <td>Model:</td>       <td>MixedLM</td> <td>Dependent Variable:</td> <td>llm_human_diff</td>\n",
       "</tr>\n",
       "<tr>\n",
       "  <td>No. Observations:</td>  <td>24249</td>        <td>Method:</td>            <td>REML</td>     \n",
       "</tr>\n",
       "<tr>\n",
       "     <td>No. Groups:</td>     <td>21873</td>        <td>Scale:</td>            <td>0.3932</td>    \n",
       "</tr>\n",
       "<tr>\n",
       "  <td>Min. group size:</td>     <td>1</td>      <td>Log-Likelihood:</td>     <td>-31733.2608</td> \n",
       "</tr>\n",
       "<tr>\n",
       "  <td>Max. group size:</td>    <td>324</td>       <td>Converged:</td>            <td>Yes</td>     \n",
       "</tr>\n",
       "<tr>\n",
       "  <td>Mean group size:</td>    <td>1.1</td>            <td></td>                  <td></td>       \n",
       "</tr>\n",
       "</table>\n",
       "<table class=\"simpletable\">\n",
       "<tr>\n",
       "       <td></td>        <th>Coef.</th> <th>Std.Err.</th>    <th>z</th>    <th>P>|z|</th> <th>[0.025</th> <th>0.975]</th>\n",
       "</tr>\n",
       "<tr>\n",
       "  <th>Intercept</th>   <td>-0.018</td>   <td>0.021</td>  <td>-0.876</td>  <td>0.381</td> <td>-0.059</td>  <td>0.023</td>\n",
       "</tr>\n",
       "<tr>\n",
       "  <th>QL</th>          <td>-0.298</td>   <td>0.026</td>  <td>-11.286</td> <td>0.000</td> <td>-0.350</td> <td>-0.246</td>\n",
       "</tr>\n",
       "<tr>\n",
       "  <th>QW</th>           <td>0.057</td>   <td>0.003</td>  <td>16.392</td>  <td>0.000</td>  <td>0.050</td>  <td>0.064</td>\n",
       "</tr>\n",
       "<tr>\n",
       "  <th>isSynthetic</th> <td>-0.089</td>   <td>0.014</td>  <td>-6.554</td>  <td>0.000</td> <td>-0.115</td> <td>-0.062</td>\n",
       "</tr>\n",
       "<tr>\n",
       "  <th>DW</th>          <td>-0.000</td>   <td>0.000</td>  <td>-1.869</td>  <td>0.062</td> <td>-0.000</td>  <td>0.000</td>\n",
       "</tr>\n",
       "<tr>\n",
       "  <th>Group Var</th>    <td>0.457</td>   <td>0.040</td>     <td></td>       <td></td>       <td></td>       <td></td>   \n",
       "</tr>\n",
       "</table><br/>\n"
      ],
      "text/latex": [
       "\\begin{table}\n",
       "\\caption{Mixed Linear Model Regression Results}\n",
       "\\label{}\n",
       "\\begin{center}\n",
       "\\begin{tabular}{llll}\n",
       "\\hline\n",
       "Model:            & MixedLM & Dependent Variable: & llm\\_human\\_diff  \\\\\n",
       "No. Observations: & 24249   & Method:             & REML              \\\\\n",
       "No. Groups:       & 21873   & Scale:              & 0.3932            \\\\\n",
       "Min. group size:  & 1       & Log-Likelihood:     & -31733.2608       \\\\\n",
       "Max. group size:  & 324     & Converged:          & Yes               \\\\\n",
       "Mean group size:  & 1.1     &                     &                   \\\\\n",
       "\\hline\n",
       "\\end{tabular}\n",
       "\\end{center}\n",
       "\n",
       "\\begin{center}\n",
       "\\begin{tabular}{lrrrrrr}\n",
       "\\hline\n",
       "            &  Coef. & Std.Err. &       z & P$> |$z$|$ & [0.025 & 0.975]  \\\\\n",
       "\\hline\n",
       "Intercept   & -0.018 &    0.021 &  -0.876 &       0.381 & -0.059 &  0.023  \\\\\n",
       "QL          & -0.298 &    0.026 & -11.286 &       0.000 & -0.350 & -0.246  \\\\\n",
       "QW          &  0.057 &    0.003 &  16.392 &       0.000 &  0.050 &  0.064  \\\\\n",
       "isSynthetic & -0.089 &    0.014 &  -6.554 &       0.000 & -0.115 & -0.062  \\\\\n",
       "DW          & -0.000 &    0.000 &  -1.869 &       0.062 & -0.000 &  0.000  \\\\\n",
       "Group Var   &  0.457 &    0.040 &         &             &        &         \\\\\n",
       "\\hline\n",
       "\\end{tabular}\n",
       "\\end{center}\n",
       "\\end{table}\n",
       "\\bigskip\n"
      ],
      "text/plain": [
       "<class 'statsmodels.iolib.summary2.Summary'>\n",
       "\"\"\"\n",
       "           Mixed Linear Model Regression Results\n",
       "============================================================\n",
       "Model:            MixedLM Dependent Variable: llm_human_diff\n",
       "No. Observations: 24249   Method:             REML          \n",
       "No. Groups:       21873   Scale:              0.3932        \n",
       "Min. group size:  1       Log-Likelihood:     -31733.2608   \n",
       "Max. group size:  324     Converged:          Yes           \n",
       "Mean group size:  1.1                                       \n",
       "-------------------------------------------------------------\n",
       "             Coef.   Std.Err.     z     P>|z|  [0.025  0.975]\n",
       "-------------------------------------------------------------\n",
       "Intercept    -0.018     0.021   -0.876  0.381  -0.059   0.023\n",
       "QL           -0.298     0.026  -11.286  0.000  -0.350  -0.246\n",
       "QW            0.057     0.003   16.392  0.000   0.050   0.064\n",
       "isSynthetic  -0.089     0.014   -6.554  0.000  -0.115  -0.062\n",
       "DW           -0.000     0.000   -1.869  0.062  -0.000   0.000\n",
       "Group Var     0.457     0.040                                \n",
       "============================================================\n",
       "\n",
       "\"\"\""
      ]
     },
     "execution_count": 19,
     "metadata": {},
     "output_type": "execute_result"
    }
   ],
   "source": [
    "#import statsmodels.formula.api as smf\n",
    "model = sm.MixedLM.from_formula(mixed_model, data, groups=data[\"docid\"])\n",
    "#model = sm.OLS.from_formula(mixed_model, data)\n",
    "#model = smf.logit(formula = mixed_model, data= data)\n",
    "\n",
    "result = model.fit()\n",
    "result.summary()"
   ]
  },
  {
   "cell_type": "code",
   "execution_count": 26,
   "metadata": {},
   "outputs": [
    {
     "ename": "AttributeError",
     "evalue": "'MixedLM' object has no attribute 'weights'",
     "output_type": "error",
     "traceback": [
      "\u001b[0;31m---------------------------------------------------------------------------\u001b[0m",
      "\u001b[0;31mAttributeError\u001b[0m                            Traceback (most recent call last)",
      "Cell \u001b[0;32mIn[26], line 1\u001b[0m\n\u001b[0;32m----> 1\u001b[0m fig \u001b[38;5;241m=\u001b[39m sm\u001b[38;5;241m.\u001b[39mgraphics\u001b[38;5;241m.\u001b[39mplot_fit(result, \u001b[38;5;124m\"\u001b[39m\u001b[38;5;124mQL\u001b[39m\u001b[38;5;124m\"\u001b[39m)\n\u001b[1;32m      2\u001b[0m fig\u001b[38;5;241m.\u001b[39mtight_layout(pad\u001b[38;5;241m=\u001b[39m\u001b[38;5;241m1.0\u001b[39m)\n",
      "File \u001b[0;32m~/anaconda3/lib/python3.11/site-packages/statsmodels/graphics/regressionplots.py:160\u001b[0m, in \u001b[0;36mplot_fit\u001b[0;34m(results, exog_idx, y_true, ax, vlines, **kwargs)\u001b[0m\n\u001b[1;32m    157\u001b[0m ax\u001b[38;5;241m.\u001b[39mplot(x1, results\u001b[38;5;241m.\u001b[39mfittedvalues[x1_argsort], \u001b[38;5;124m'\u001b[39m\u001b[38;5;124mD\u001b[39m\u001b[38;5;124m'\u001b[39m, color\u001b[38;5;241m=\u001b[39m\u001b[38;5;124m'\u001b[39m\u001b[38;5;124mr\u001b[39m\u001b[38;5;124m'\u001b[39m,\n\u001b[1;32m    158\u001b[0m         label\u001b[38;5;241m=\u001b[39m\u001b[38;5;124m'\u001b[39m\u001b[38;5;124mfitted\u001b[39m\u001b[38;5;124m'\u001b[39m, \u001b[38;5;241m*\u001b[39m\u001b[38;5;241m*\u001b[39mkwargs)\n\u001b[1;32m    159\u001b[0m \u001b[38;5;28;01mif\u001b[39;00m vlines \u001b[38;5;129;01mis\u001b[39;00m \u001b[38;5;28;01mTrue\u001b[39;00m:\n\u001b[0;32m--> 160\u001b[0m     _, iv_l, iv_u \u001b[38;5;241m=\u001b[39m wls_prediction_std(results)\n\u001b[1;32m    161\u001b[0m     ax\u001b[38;5;241m.\u001b[39mvlines(x1, iv_l[x1_argsort], iv_u[x1_argsort], linewidth\u001b[38;5;241m=\u001b[39m\u001b[38;5;241m1\u001b[39m,\n\u001b[1;32m    162\u001b[0m               color\u001b[38;5;241m=\u001b[39m\u001b[38;5;124m'\u001b[39m\u001b[38;5;124mk\u001b[39m\u001b[38;5;124m'\u001b[39m, alpha\u001b[38;5;241m=\u001b[39m\u001b[38;5;241m.7\u001b[39m)\n\u001b[1;32m    163\u001b[0m \u001b[38;5;66;03m#ax.fill_between(x1, iv_l[x1_argsort], iv_u[x1_argsort], alpha=0.1,\u001b[39;00m\n\u001b[1;32m    164\u001b[0m \u001b[38;5;66;03m#                    color='k')\u001b[39;00m\n",
      "File \u001b[0;32m~/anaconda3/lib/python3.11/site-packages/statsmodels/sandbox/regression/predstd.py:79\u001b[0m, in \u001b[0;36mwls_prediction_std\u001b[0;34m(res, exog, weights, alpha)\u001b[0m\n\u001b[1;32m     77\u001b[0m     predicted \u001b[38;5;241m=\u001b[39m res\u001b[38;5;241m.\u001b[39mfittedvalues\n\u001b[1;32m     78\u001b[0m     \u001b[38;5;28;01mif\u001b[39;00m weights \u001b[38;5;129;01mis\u001b[39;00m \u001b[38;5;28;01mNone\u001b[39;00m:\n\u001b[0;32m---> 79\u001b[0m         weights \u001b[38;5;241m=\u001b[39m res\u001b[38;5;241m.\u001b[39mmodel\u001b[38;5;241m.\u001b[39mweights\n\u001b[1;32m     80\u001b[0m \u001b[38;5;28;01melse\u001b[39;00m:\n\u001b[1;32m     81\u001b[0m     exog \u001b[38;5;241m=\u001b[39m np\u001b[38;5;241m.\u001b[39matleast_2d(exog)\n",
      "\u001b[0;31mAttributeError\u001b[0m: 'MixedLM' object has no attribute 'weights'"
     ]
    },
    {
     "data": {
      "image/png": "[encoded data removed]",
      "text/plain": [
       "<Figure size 640x480 with 1 Axes>"
      ]
     },
     "metadata": {},
     "output_type": "display_data"
    }
   ],
   "source": [
    "fig = sm.graphics.plot_fit(result, \"QL\")\n",
    "fig.tight_layout(pad=1.0)"
   ]
  },
  {
   "cell_type": "code",
   "execution_count": 24,
   "metadata": {},
   "outputs": [
    {
     "data": {
      "text/plain": [
       "<function matplotlib.pyplot.close(fig=None)>"
      ]
     },
     "execution_count": 24,
     "metadata": {},
     "output_type": "execute_result"
    },
    {
     "data": {
      "image/png": "[encoded data removed]",
      "text/plain": [
       "<Figure size 500x500 with 1 Axes>"
      ]
     },
     "metadata": {},
     "output_type": "display_data"
    }
   ],
   "source": [
    "# Component-Component plus Residual (CCPR) Plots (= partial residual plot)\n",
    "fig, ax = plt.subplots(figsize=(5, 5))\n",
    "fig = sm.graphics.plot_ccpr(result, 'QL', ax=ax)\n",
    "plt.close"
   ]
  },
  {
   "cell_type": "code",
   "execution_count": 17,
   "metadata": {},
   "outputs": [
    {
     "data": {
      "image/png": "[encoded data removed]",
      "text/plain": [
       "<Figure size 800x600 with 1 Axes>"
      ]
     },
     "metadata": {},
     "output_type": "display_data"
    },
    {
     "data": {
      "image/png": "[encoded data removed]",
      "text/plain": [
       "<Figure size 800x600 with 1 Axes>"
      ]
     },
     "metadata": {},
     "output_type": "display_data"
    },
    {
     "data": {
      "image/png": "[encoded data removed]",
      "text/plain": [
       "<Figure size 800x600 with 1 Axes>"
      ]
     },
     "metadata": {},
     "output_type": "display_data"
    }
   ],
   "source": [
    "plot_residuals(result)"
   ]
  },
  {
   "cell_type": "code",
   "execution_count": 35,
   "metadata": {},
   "outputs": [],
   "source": [
    "mixed_model_int = \"score ~ isGPT4 + Judge + QL + QDR + QW + C(LLM, Treatment(reference='Other')) + C(Judge, Treatment(reference='nist')) * C(LLM, Treatment(reference='Other')) + isGPT4 * C(LLM, Treatment(reference='Other')) + pipeline\""
   ]
  },
  {
   "cell_type": "code",
   "execution_count": null,
   "metadata": {},
   "outputs": [],
   "source": [
    "model = sm.MixedLM.from_formula(mixed_model_int, data, groups=data[\"run_id\"])\n",
    "result = model.fit()\n",
    "result.summary()"
   ]
  },
  {
   "cell_type": "code",
   "execution_count": 11,
   "metadata": {},
   "outputs": [],
   "source": [
    "real_queries_real_judgments = data[((data['Judge'] == 'nist') & (data['qid'].isin(real_queries_judged)))]\n",
    "synthetic_queries_real_judgments = data[((data['Judge'] == 'nist') & (data['qid'].isin(t5_queries_judged) | data['qid'].isin(gpt4_queries_judged)))]"
   ]
  },
  {
   "cell_type": "code",
   "execution_count": 12,
   "metadata": {},
   "outputs": [],
   "source": [
    "real_queries_synthetic_judgments = data[((data['Judge'] == 'gpt4') & (data['qid'].isin(real_queries_judged)))]\n",
    "synthetic_queries_synthetic_judgments = data[((data['Judge'] == 'gpt4') & (data['qid'].isin(t5_queries_judged) | data['qid'].isin(gpt4_queries_judged)))]"
   ]
  },
  {
   "cell_type": "code",
   "execution_count": 13,
   "metadata": {},
   "outputs": [],
   "source": [
    "mixed_model_condition_Qreal = \"score ~ QL + QDR + QW + C(LLM, Treatment(reference='Other')) + pipeline\"\n",
    "mixed_model_condition_Qsynthetic = \"score ~ QL + QDS + QW + C(LLM, Treatment(reference='Other')) + pipeline\""
   ]
  },
  {
   "cell_type": "code",
   "execution_count": null,
   "metadata": {},
   "outputs": [],
   "source": [
    "model = sm.MixedLM.from_formula(mixed_model_condition_Qreal, real_queries_real_judgments, groups=real_queries_real_judgments[\"run_id\"])\n",
    "result = model.fit()\n",
    "result.summary()"
   ]
  },
  {
   "cell_type": "code",
   "execution_count": null,
   "metadata": {},
   "outputs": [],
   "source": [
    "model = sm.MixedLM.from_formula(mixed_model_condition_Qsynthetic, synthetic_queries_real_judgments, groups=synthetic_queries_real_judgments[\"run_id\"])\n",
    "result = model.fit()\n",
    "result.summary()"
   ]
  },
  {
   "cell_type": "code",
   "execution_count": null,
   "metadata": {},
   "outputs": [],
   "source": [
    "model = sm.MixedLM.from_formula(mixed_model_condition_Qreal, real_queries_synthetic_judgments, groups=real_queries_synthetic_judgments[\"run_id\"])\n",
    "result = model.fit()\n",
    "result.summary()"
   ]
  },
  {
   "cell_type": "code",
   "execution_count": null,
   "metadata": {},
   "outputs": [],
   "source": [
    "model = sm.MixedLM.from_formula(mixed_model_condition_Qsynthetic, synthetic_queries_synthetic_judgments, groups=synthetic_queries_synthetic_judgments[\"run_id\"])\n",
    "result = model.fit()\n",
    "result.summary()"
   ]
  },
  {
   "cell_type": "code",
   "execution_count": 18,
   "metadata": {},
   "outputs": [],
   "source": [
    "# Merging the dataframes on 'run_id' and 'qid'\n",
    "real_queries_diff = pd.merge(real_queries_real_judgments, real_queries_synthetic_judgments[['run_id', 'qid', 'score']], on=['run_id', 'qid'], suffixes=('_a', '_b'))\n",
    "# Subtracting the 'Score' values\n",
    "real_queries_diff['score_ab'] = real_queries_diff['score_a'] - real_queries_diff['score_b']\n",
    "real_queries_diff['score_ba'] = real_queries_diff['score_b'] - real_queries_diff['score_a']"
   ]
  },
  {
   "cell_type": "code",
   "execution_count": null,
   "metadata": {},
   "outputs": [],
   "source": [
    "real_queries_diff"
   ]
  },
  {
   "cell_type": "code",
   "execution_count": null,
   "metadata": {},
   "outputs": [],
   "source": [
    "model = sm.MixedLM.from_formula(\"score_ab ~ QL + QDR + QW + C(LLM, Treatment(reference='Other')) + pipeline\", real_queries_diff, groups=real_queries_diff[\"run_id\"])\n",
    "result = model.fit()\n",
    "result.summary()"
   ]
  },
  {
   "cell_type": "code",
   "execution_count": null,
   "metadata": {},
   "outputs": [],
   "source": [
    "model = sm.MixedLM.from_formula(\"score_ba ~ QL + QDR + QW + C(LLM, Treatment(reference='Other')) + pipeline\", real_queries_diff, groups=real_queries_diff[\"run_id\"])\n",
    "result = model.fit()\n",
    "result.summary()"
   ]
  },
  {
   "cell_type": "code",
   "execution_count": 21,
   "metadata": {},
   "outputs": [],
   "source": [
    "# Merging the dataframes on 'run_id' and 'qid'\n",
    "synthetic_queries_diff = pd.merge(synthetic_queries_real_judgments, synthetic_queries_synthetic_judgments[['run_id', 'qid', 'score']], on=['run_id', 'qid'], suffixes=('_a', '_b'))\n",
    "# Subtracting the 'Score' values\n",
    "synthetic_queries_diff['score_ab'] = synthetic_queries_diff['score_a'] - synthetic_queries_diff['score_b']\n",
    "synthetic_queries_diff['score_ba'] = synthetic_queries_diff['score_b'] - synthetic_queries_diff['score_a']"
   ]
  },
  {
   "cell_type": "code",
   "execution_count": null,
   "metadata": {},
   "outputs": [],
   "source": [
    "synthetic_queries_diff"
   ]
  },
  {
   "cell_type": "code",
   "execution_count": null,
   "metadata": {},
   "outputs": [],
   "source": [
    "model = sm.MixedLM.from_formula(\"score_ab ~ QL + QDR + QW + C(LLM, Treatment(reference='Other')) + pipeline\", synthetic_queries_diff, groups=synthetic_queries_diff[\"run_id\"])\n",
    "result = model.fit()\n",
    "result.summary()"
   ]
  },
  {
   "cell_type": "code",
   "execution_count": null,
   "metadata": {},
   "outputs": [],
   "source": [
    "model = sm.MixedLM.from_formula(\"score_ba ~ QL + QDR + QW + C(LLM, Treatment(reference='Other')) + pipeline\", synthetic_queries_diff, groups=synthetic_queries_diff[\"run_id\"])\n",
    "result = model.fit()\n",
    "result.summary()"
   ]
  },
  {
   "cell_type": "markdown",
   "metadata": {},
   "source": [
    "## Extra Experiments (refer to: \"Extra Exp. 1\")"
   ]
  },
  {
   "cell_type": "code",
   "execution_count": 6,
   "metadata": {},
   "outputs": [],
   "source": [
    "def get_result(result_file):\n",
    "    result_df = pd.read_csv(result_file, sep='\\t', header=None, names=['run_id', 'metric', 'qid', 'score'])\n",
    "    result_df = result_df[result_df['qid'] != 'all']\n",
    "    result_df['score'] = result_df['score'].astype(float)\n",
    "    result_df['qid'] = result_df['qid'].astype(int)\n",
    "    result_df['metric'] = result_df['metric'].apply(lambda x: x.rstrip())\n",
    "    result_df = result_df[(result_df['metric'] == metric)]\n",
    "    result_df.drop(['metric'], axis=1, inplace=True)\n",
    "    return result_df"
   ]
  },
  {
   "cell_type": "code",
   "execution_count": 7,
   "metadata": {},
   "outputs": [],
   "source": [
    "real_judge_results = get_result(result_file=\"results/all.pass.nist.ndcgeval\")\n",
    "synthetic_judge_results = get_result(result_file=\"results/all.pass.gpt4.ndcgeval\")"
   ]
  },
  {
   "cell_type": "code",
   "execution_count": 9,
   "metadata": {},
   "outputs": [],
   "source": [
    "# Merging the dataframes on 'run_id' and 'qid'\n",
    "results_diff = pd.merge(real_judge_results, synthetic_judge_results, on=['run_id', 'qid'], suffixes=('_real', '_synthetic'))\n",
    "# Subtracting the 'Score' values\n",
    "results_diff['score_RS'] = results_diff['score_real'] - results_diff['score_synthetic']\n",
    "results_diff['score_SR'] = results_diff['score_synthetic'] - results_diff['score_real']"
   ]
  },
  {
   "cell_type": "code",
   "execution_count": 13,
   "metadata": {},
   "outputs": [],
   "source": [
    "results_diff = pd.merge(results_diff, qid_to_info, on='qid')\n",
    "results_diff = pd.merge(results_diff, model_to_info, on='run_id')"
   ]
  },
  {
   "cell_type": "code",
   "execution_count": null,
   "metadata": {},
   "outputs": [],
   "source": [
    "results_diff"
   ]
  },
  {
   "cell_type": "markdown",
   "metadata": {},
   "source": [
    "Selected: score_SR"
   ]
  },
  {
   "cell_type": "code",
   "execution_count": 17,
   "metadata": {},
   "outputs": [],
   "source": [
    "results_diff['qd_RS'] = results_diff['QDR'] - results_diff['QDS']\n",
    "results_diff['qd_SR'] = results_diff['QDS'] - results_diff['QDR']"
   ]
  },
  {
   "cell_type": "code",
   "execution_count": 21,
   "metadata": {},
   "outputs": [],
   "source": [
    "mixed_model_1 = \"score_SR ~ Synthetic + QL + qd_SR + QW + DL + pipeline + C(LLM, Treatment(reference='Other')) + Synthetic * C(LLM, Treatment(reference='Other'))\""
   ]
  },
  {
   "cell_type": "code",
   "execution_count": null,
   "metadata": {},
   "outputs": [],
   "source": [
    "model = sm.MixedLM.from_formula(mixed_model_1, results_diff, groups=results_diff[\"run_id\"])\n",
    "result = model.fit()\n",
    "result.summary()"
   ]
  },
  {
   "cell_type": "code",
   "execution_count": null,
   "metadata": {},
   "outputs": [],
   "source": []
  }
 ],
 "metadata": {
  "kernelspec": {
   "display_name": "base",
   "language": "python",
   "name": "python3"
  },
  "language_info": {
   "codemirror_mode": {
    "name": "ipython",
    "version": 3
   },
   "file_extension": ".py",
   "mimetype": "text/x-python",
   "name": "python",
   "nbconvert_exporter": "python",
   "pygments_lexer": "ipython3",
   "version": "3.11.5"
  }
 },
 "nbformat": 4,
 "nbformat_minor": 2
}
