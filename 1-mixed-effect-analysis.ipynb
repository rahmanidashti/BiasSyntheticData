{
 "cells": [
  {
   "cell_type": "code",
   "execution_count": 1,
   "metadata": {},
   "outputs": [],
   "source": [
    "import pandas as pd\n",
    "import glob\n",
    "import statsmodels.api as sm"
   ]
  },
  {
   "cell_type": "code",
   "execution_count": 2,
   "metadata": {},
   "outputs": [],
   "source": [
    "metric = \"ndcg_cut_10\" # map # ndcg_cut_10\n",
    "result_format = \"ndcgeval\" # treceval # ndcgeval\n",
    "results_from = \"LLMJudge2024\""
   ]
  },
  {
   "cell_type": "code",
   "execution_count": 3,
   "metadata": {},
   "outputs": [
    {
     "data": {
      "text/html": [
       "<div>\n",
       "<style scoped>\n",
       "    .dataframe tbody tr th:only-of-type {\n",
       "        vertical-align: middle;\n",
       "    }\n",
       "\n",
       "    .dataframe tbody tr th {\n",
       "        vertical-align: top;\n",
       "    }\n",
       "\n",
       "    .dataframe thead th {\n",
       "        text-align: right;\n",
       "    }\n",
       "</style>\n",
       "<table border=\"1\" class=\"dataframe\">\n",
       "  <thead>\n",
       "    <tr style=\"text-align: right;\">\n",
       "      <th></th>\n",
       "      <th>run_id</th>\n",
       "      <th>qid</th>\n",
       "      <th>score</th>\n",
       "      <th>judged_by</th>\n",
       "    </tr>\n",
       "  </thead>\n",
       "  <tbody>\n",
       "    <tr>\n",
       "      <th>2</th>\n",
       "      <td>naverloo_fs_RR_duo</td>\n",
       "      <td>2002168</td>\n",
       "      <td>1.0000</td>\n",
       "      <td>TREMA-rubric0</td>\n",
       "    </tr>\n",
       "    <tr>\n",
       "      <th>12</th>\n",
       "      <td>naverloo_fs_RR_duo</td>\n",
       "      <td>2004282</td>\n",
       "      <td>0.3396</td>\n",
       "      <td>TREMA-rubric0</td>\n",
       "    </tr>\n",
       "    <tr>\n",
       "      <th>22</th>\n",
       "      <td>naverloo_fs_RR_duo</td>\n",
       "      <td>2004980</td>\n",
       "      <td>0.4221</td>\n",
       "      <td>TREMA-rubric0</td>\n",
       "    </tr>\n",
       "    <tr>\n",
       "      <th>32</th>\n",
       "      <td>naverloo_fs_RR_duo</td>\n",
       "      <td>2005952</td>\n",
       "      <td>0.6944</td>\n",
       "      <td>TREMA-rubric0</td>\n",
       "    </tr>\n",
       "    <tr>\n",
       "      <th>42</th>\n",
       "      <td>naverloo_fs_RR_duo</td>\n",
       "      <td>2007816</td>\n",
       "      <td>0.6512</td>\n",
       "      <td>TREMA-rubric0</td>\n",
       "    </tr>\n",
       "    <tr>\n",
       "      <th>...</th>\n",
       "      <td>...</td>\n",
       "      <td>...</td>\n",
       "      <td>...</td>\n",
       "      <td>...</td>\n",
       "    </tr>\n",
       "    <tr>\n",
       "      <th>9042</th>\n",
       "      <td>naverloo_bm25_splades_RR</td>\n",
       "      <td>3100119</td>\n",
       "      <td>0.8665</td>\n",
       "      <td>Olz-exp</td>\n",
       "    </tr>\n",
       "    <tr>\n",
       "      <th>9052</th>\n",
       "      <td>naverloo_bm25_splades_RR</td>\n",
       "      <td>3100235</td>\n",
       "      <td>0.6217</td>\n",
       "      <td>Olz-exp</td>\n",
       "    </tr>\n",
       "    <tr>\n",
       "      <th>9062</th>\n",
       "      <td>naverloo_bm25_splades_RR</td>\n",
       "      <td>3100289</td>\n",
       "      <td>0.7046</td>\n",
       "      <td>Olz-exp</td>\n",
       "    </tr>\n",
       "    <tr>\n",
       "      <th>9072</th>\n",
       "      <td>naverloo_bm25_splades_RR</td>\n",
       "      <td>3100399</td>\n",
       "      <td>0.5089</td>\n",
       "      <td>Olz-exp</td>\n",
       "    </tr>\n",
       "    <tr>\n",
       "      <th>9082</th>\n",
       "      <td>naverloo_bm25_splades_RR</td>\n",
       "      <td>3100825</td>\n",
       "      <td>0.5612</td>\n",
       "      <td>Olz-exp</td>\n",
       "    </tr>\n",
       "  </tbody>\n",
       "</table>\n",
       "<p>8750 rows × 4 columns</p>\n",
       "</div>"
      ],
      "text/plain": [
       "                        run_id      qid   score      judged_by\n",
       "2           naverloo_fs_RR_duo  2002168  1.0000  TREMA-rubric0\n",
       "12          naverloo_fs_RR_duo  2004282  0.3396  TREMA-rubric0\n",
       "22          naverloo_fs_RR_duo  2004980  0.4221  TREMA-rubric0\n",
       "32          naverloo_fs_RR_duo  2005952  0.6944  TREMA-rubric0\n",
       "42          naverloo_fs_RR_duo  2007816  0.6512  TREMA-rubric0\n",
       "...                        ...      ...     ...            ...\n",
       "9042  naverloo_bm25_splades_RR  3100119  0.8665        Olz-exp\n",
       "9052  naverloo_bm25_splades_RR  3100235  0.6217        Olz-exp\n",
       "9062  naverloo_bm25_splades_RR  3100289  0.7046        Olz-exp\n",
       "9072  naverloo_bm25_splades_RR  3100399  0.5089        Olz-exp\n",
       "9082  naverloo_bm25_splades_RR  3100825  0.5612        Olz-exp\n",
       "\n",
       "[8750 rows x 4 columns]"
      ]
     },
     "execution_count": 3,
     "metadata": {},
     "output_type": "execute_result"
    }
   ],
   "source": [
    "results_df_list = []\n",
    "\n",
    "for infile in glob.glob(f'./results/{results_from}/*.{result_format}'):\n",
    "    judger = infile.split('/')[3].split('.')[2]\n",
    "    result_df = pd.read_csv(infile, sep='\\t', header=None, names=['run_id', 'metric', 'qid', 'score'])\n",
    "    result_df = result_df[result_df['qid'] != 'all']\n",
    "    result_df['metric'] = result_df['metric'].apply(lambda x: x.rstrip())\n",
    "    result_df = result_df[(result_df['metric'] == metric)]\n",
    "    result_df.drop(['metric'], axis=1, inplace=True)\n",
    "    result_df['judged_by'] = judger\n",
    "    result_df['qid'] = result_df['qid'].astype(int)\n",
    "    result_df['score'] = result_df['score'].astype(float)\n",
    "    results_df_list.append(result_df)\n",
    " \n",
    "results_dfs = pd.concat(results_df_list)\n",
    "results_dfs"
   ]
  },
  {
   "cell_type": "code",
   "execution_count": 5,
   "metadata": {},
   "outputs": [],
   "source": [
    "# queries_judged = set(results_dfs['qid'])\n",
    "# real_queries_judged = [x for x in queries_judged if x < 3000000]\n",
    "# t5_queries_judged = [x for x in queries_judged if x > 3000000 and x < 3100000]\n",
    "# gpt4_queries_judged = [x for x in queries_judged if x > 3100000]\n",
    "\n",
    "# print(len(real_queries_judged))\n",
    "# print(len(t5_queries_judged))\n",
    "# print(len(gpt4_queries_judged))"
   ]
  },
  {
   "cell_type": "code",
   "execution_count": 4,
   "metadata": {},
   "outputs": [],
   "source": [
    "qid_to_info = pd.read_csv(\"infos/query_to_info.txt\", sep='\\t')\n",
    "doc_to_info = pd.read_csv(\"infos/doc_to_info.txt\", sep='\\t')\n",
    "model_to_info = pd.read_csv(\"infos/model_to_info.txt\", sep='\\t')"
   ]
  },
  {
   "cell_type": "code",
   "execution_count": 5,
   "metadata": {},
   "outputs": [],
   "source": [
    "data = pd.merge(results_dfs, qid_to_info, on='qid')\n",
    "# data = pd.merge(data, doc_to_info, on='qid')\n",
    "data = pd.merge(data, model_to_info, on='run_id')"
   ]
  },
  {
   "cell_type": "code",
   "execution_count": 7,
   "metadata": {},
   "outputs": [],
   "source": [
    "# These are the features that do not seem to be very useful, relevant, or concrete.\n",
    "# QL is a binary feature and we have QW, so it should be dropped.\n",
    "data.drop(['QL'], axis=1, inplace=True)\n",
    "data.drop(['isGPT4'], axis=1, inplace=True)\n",
    "data.drop(['QDR'], axis=1, inplace=True)\n",
    "data.drop(['QDS'], axis=1, inplace=True)\n",
    "data.drop(['isLLM'], axis=1, inplace=True)"
   ]
  },
  {
   "cell_type": "code",
   "execution_count": 8,
   "metadata": {},
   "outputs": [],
   "source": [
    "# def QD_value(row):\n",
    "#     if row['judged_by'] == 'nist':\n",
    "#         return row['QDR']\n",
    "#     elif row['judged_by'] == 'gpt4':\n",
    "#         return row['QDS']"
   ]
  },
  {
   "cell_type": "code",
   "execution_count": 9,
   "metadata": {},
   "outputs": [],
   "source": [
    "# data['QD'] = data.apply(QD_value, axis=1)"
   ]
  },
  {
   "cell_type": "code",
   "execution_count": 8,
   "metadata": {},
   "outputs": [],
   "source": [
    "data['QT'] = data['QT'].astype('category') \n",
    "data['QT'] = data['QT'].replace({0: 'Human', 1: 'T5', 2: 'GPT4'}) "
   ]
  },
  {
   "cell_type": "code",
   "execution_count": null,
   "metadata": {},
   "outputs": [],
   "source": [
    "data"
   ]
  },
  {
   "cell_type": "code",
   "execution_count": 33,
   "metadata": {},
   "outputs": [],
   "source": [
    "mixed_model = \"score ~ QD + QW + APL + pipeline + C(judged_by, Treatment(reference='nist')) +  QT + C(ST, Treatment(reference='Other')) + QT * C(ST, Treatment(reference='Other')) + C(ST, Treatment(reference='Other')) * C(judged_by, Treatment(reference='nist'))  \""
   ]
  },
  {
   "cell_type": "code",
   "execution_count": null,
   "metadata": {},
   "outputs": [],
   "source": [
    "model = sm.MixedLM.from_formula(mixed_model, data, groups=data[\"qid\"])\n",
    "result = model.fit()\n",
    "result.summary()"
   ]
  },
  {
   "cell_type": "code",
   "execution_count": 25,
   "metadata": {},
   "outputs": [],
   "source": [
    "data2 = data.drop(['QD'], axis=1)"
   ]
  },
  {
   "cell_type": "code",
   "execution_count": null,
   "metadata": {},
   "outputs": [],
   "source": [
    "score_diff_data = data2.pivot(index=['run_id', 'qid', 'QW', 'APL', 'QT', 'ST', 'pipeline'], columns=['judged_by'], values='score')\n",
    "score_diff_data.columns.name = None\n",
    "score_diff_data = score_diff_data.reset_index()\n",
    "score_diff_data['score_diff'] = score_diff_data['gpt4'] - score_diff_data['nist']\n",
    "score_diff_data"
   ]
  },
  {
   "cell_type": "code",
   "execution_count": 35,
   "metadata": {},
   "outputs": [],
   "source": [
    "score_diff_mixed_model = \"score_diff ~  QW + APL + pipeline  +  QT + C(ST, Treatment(reference='Other')) + QT * C(ST, Treatment(reference='Other')) \""
   ]
  },
  {
   "cell_type": "code",
   "execution_count": null,
   "metadata": {},
   "outputs": [],
   "source": [
    "model = sm.MixedLM.from_formula(score_diff_mixed_model, score_diff_data, groups=score_diff_data[\"qid\"])\n",
    "result = model.fit()\n",
    "result.summary()"
   ]
  },
  {
   "cell_type": "code",
   "execution_count": 11,
   "metadata": {},
   "outputs": [],
   "source": [
    "real_queries_real_judgments = data[((data['Judge'] == 'nist') & (data['qid'].isin(real_queries_judged)))]\n",
    "synthetic_queries_real_judgments = data[((data['Judge'] == 'nist') & (data['qid'].isin(t5_queries_judged) | data['qid'].isin(gpt4_queries_judged)))]"
   ]
  },
  {
   "cell_type": "code",
   "execution_count": 12,
   "metadata": {},
   "outputs": [],
   "source": [
    "real_queries_synthetic_judgments = data[((data['Judge'] == 'gpt4') & (data['qid'].isin(real_queries_judged)))]\n",
    "synthetic_queries_synthetic_judgments = data[((data['Judge'] == 'gpt4') & (data['qid'].isin(t5_queries_judged) | data['qid'].isin(gpt4_queries_judged)))]"
   ]
  },
  {
   "cell_type": "code",
   "execution_count": 13,
   "metadata": {},
   "outputs": [],
   "source": [
    "mixed_model_condition_Qreal = \"score ~ QL + QDR + QW + C(LLM, Treatment(reference='Other')) + pipeline\"\n",
    "mixed_model_condition_Qsynthetic = \"score ~ QL + QDS + QW + C(LLM, Treatment(reference='Other')) + pipeline\""
   ]
  },
  {
   "cell_type": "code",
   "execution_count": null,
   "metadata": {},
   "outputs": [],
   "source": [
    "model = sm.MixedLM.from_formula(mixed_model_condition_Qreal, real_queries_real_judgments, groups=real_queries_real_judgments[\"run_id\"])\n",
    "result = model.fit()\n",
    "result.summary()"
   ]
  },
  {
   "cell_type": "code",
   "execution_count": null,
   "metadata": {},
   "outputs": [],
   "source": [
    "model = sm.MixedLM.from_formula(mixed_model_condition_Qsynthetic, synthetic_queries_real_judgments, groups=synthetic_queries_real_judgments[\"run_id\"])\n",
    "result = model.fit()\n",
    "result.summary()"
   ]
  },
  {
   "cell_type": "code",
   "execution_count": null,
   "metadata": {},
   "outputs": [],
   "source": [
    "model = sm.MixedLM.from_formula(mixed_model_condition_Qreal, real_queries_synthetic_judgments, groups=real_queries_synthetic_judgments[\"run_id\"])\n",
    "result = model.fit()\n",
    "result.summary()"
   ]
  },
  {
   "cell_type": "code",
   "execution_count": null,
   "metadata": {},
   "outputs": [],
   "source": [
    "model = sm.MixedLM.from_formula(mixed_model_condition_Qsynthetic, synthetic_queries_synthetic_judgments, groups=synthetic_queries_synthetic_judgments[\"run_id\"])\n",
    "result = model.fit()\n",
    "result.summary()"
   ]
  },
  {
   "cell_type": "code",
   "execution_count": 18,
   "metadata": {},
   "outputs": [],
   "source": [
    "# Merging the dataframes on 'run_id' and 'qid'\n",
    "real_queries_diff = pd.merge(real_queries_real_judgments, real_queries_synthetic_judgments[['run_id', 'qid', 'score']], on=['run_id', 'qid'], suffixes=('_a', '_b'))\n",
    "# Subtracting the 'Score' values\n",
    "real_queries_diff['score_ab'] = real_queries_diff['score_a'] - real_queries_diff['score_b']\n",
    "real_queries_diff['score_ba'] = real_queries_diff['score_b'] - real_queries_diff['score_a']"
   ]
  },
  {
   "cell_type": "code",
   "execution_count": null,
   "metadata": {},
   "outputs": [],
   "source": [
    "real_queries_diff"
   ]
  },
  {
   "cell_type": "code",
   "execution_count": null,
   "metadata": {},
   "outputs": [],
   "source": [
    "model = sm.MixedLM.from_formula(\"score_ab ~ QL + QDR + QW + C(LLM, Treatment(reference='Other')) + pipeline\", real_queries_diff, groups=real_queries_diff[\"run_id\"])\n",
    "result = model.fit()\n",
    "result.summary()"
   ]
  },
  {
   "cell_type": "code",
   "execution_count": null,
   "metadata": {},
   "outputs": [],
   "source": [
    "model = sm.MixedLM.from_formula(\"score_ba ~ QL + QDR + QW + C(LLM, Treatment(reference='Other')) + pipeline\", real_queries_diff, groups=real_queries_diff[\"run_id\"])\n",
    "result = model.fit()\n",
    "result.summary()"
   ]
  },
  {
   "cell_type": "code",
   "execution_count": 21,
   "metadata": {},
   "outputs": [],
   "source": [
    "# Merging the dataframes on 'run_id' and 'qid'\n",
    "synthetic_queries_diff = pd.merge(synthetic_queries_real_judgments, synthetic_queries_synthetic_judgments[['run_id', 'qid', 'score']], on=['run_id', 'qid'], suffixes=('_a', '_b'))\n",
    "# Subtracting the 'Score' values\n",
    "synthetic_queries_diff['score_ab'] = synthetic_queries_diff['score_a'] - synthetic_queries_diff['score_b']\n",
    "synthetic_queries_diff['score_ba'] = synthetic_queries_diff['score_b'] - synthetic_queries_diff['score_a']"
   ]
  },
  {
   "cell_type": "code",
   "execution_count": null,
   "metadata": {},
   "outputs": [],
   "source": [
    "synthetic_queries_diff"
   ]
  },
  {
   "cell_type": "code",
   "execution_count": null,
   "metadata": {},
   "outputs": [],
   "source": [
    "model = sm.MixedLM.from_formula(\"score_ab ~ QL + QDR + QW + C(LLM, Treatment(reference='Other')) + pipeline\", synthetic_queries_diff, groups=synthetic_queries_diff[\"run_id\"])\n",
    "result = model.fit()\n",
    "result.summary()"
   ]
  },
  {
   "cell_type": "code",
   "execution_count": null,
   "metadata": {},
   "outputs": [],
   "source": [
    "model = sm.MixedLM.from_formula(\"score_ba ~ QL + QDR + QW + C(LLM, Treatment(reference='Other')) + pipeline\", synthetic_queries_diff, groups=synthetic_queries_diff[\"run_id\"])\n",
    "result = model.fit()\n",
    "result.summary()"
   ]
  },
  {
   "cell_type": "markdown",
   "metadata": {},
   "source": [
    "## Extra Experiments (refer to: \"Extra Exp. 1\")"
   ]
  },
  {
   "cell_type": "code",
   "execution_count": 6,
   "metadata": {},
   "outputs": [],
   "source": [
    "def get_result(result_file):\n",
    "    result_df = pd.read_csv(result_file, sep='\\t', header=None, names=['run_id', 'metric', 'qid', 'score'])\n",
    "    result_df = result_df[result_df['qid'] != 'all']\n",
    "    result_df['score'] = result_df['score'].astype(float)\n",
    "    result_df['qid'] = result_df['qid'].astype(int)\n",
    "    result_df['metric'] = result_df['metric'].apply(lambda x: x.rstrip())\n",
    "    result_df = result_df[(result_df['metric'] == metric)]\n",
    "    result_df.drop(['metric'], axis=1, inplace=True)\n",
    "    return result_df"
   ]
  },
  {
   "cell_type": "code",
   "execution_count": 7,
   "metadata": {},
   "outputs": [],
   "source": [
    "real_judge_results = get_result(result_file=\"results/all.pass.nist.ndcgeval\")\n",
    "synthetic_judge_results = get_result(result_file=\"results/all.pass.gpt4.ndcgeval\")"
   ]
  },
  {
   "cell_type": "code",
   "execution_count": 9,
   "metadata": {},
   "outputs": [],
   "source": [
    "# Merging the dataframes on 'run_id' and 'qid'\n",
    "results_diff = pd.merge(real_judge_results, synthetic_judge_results, on=['run_id', 'qid'], suffixes=('_real', '_synthetic'))\n",
    "# Subtracting the 'Score' values\n",
    "results_diff['score_RS'] = results_diff['score_real'] - results_diff['score_synthetic']\n",
    "results_diff['score_SR'] = results_diff['score_synthetic'] - results_diff['score_real']"
   ]
  },
  {
   "cell_type": "code",
   "execution_count": 13,
   "metadata": {},
   "outputs": [],
   "source": [
    "results_diff = pd.merge(results_diff, qid_to_info, on='qid')\n",
    "results_diff = pd.merge(results_diff, model_to_info, on='run_id')"
   ]
  },
  {
   "cell_type": "code",
   "execution_count": null,
   "metadata": {},
   "outputs": [],
   "source": [
    "results_diff"
   ]
  },
  {
   "cell_type": "markdown",
   "metadata": {},
   "source": [
    "Selected: score_SR"
   ]
  },
  {
   "cell_type": "code",
   "execution_count": 17,
   "metadata": {},
   "outputs": [],
   "source": [
    "results_diff['qd_RS'] = results_diff['QDR'] - results_diff['QDS']\n",
    "results_diff['qd_SR'] = results_diff['QDS'] - results_diff['QDR']"
   ]
  },
  {
   "cell_type": "code",
   "execution_count": 21,
   "metadata": {},
   "outputs": [],
   "source": [
    "mixed_model_1 = \"score_SR ~ Synthetic + QL + qd_SR + QW + DL + pipeline + C(LLM, Treatment(reference='Other')) + Synthetic * C(LLM, Treatment(reference='Other'))\""
   ]
  },
  {
   "cell_type": "code",
   "execution_count": null,
   "metadata": {},
   "outputs": [],
   "source": [
    "model = sm.MixedLM.from_formula(mixed_model_1, results_diff, groups=results_diff[\"run_id\"])\n",
    "result = model.fit()\n",
    "result.summary()"
   ]
  },
  {
   "cell_type": "code",
   "execution_count": null,
   "metadata": {},
   "outputs": [],
   "source": []
  }
 ],
 "metadata": {
  "kernelspec": {
   "display_name": "base",
   "language": "python",
   "name": "python3"
  },
  "language_info": {
   "codemirror_mode": {
    "name": "ipython",
    "version": 3
   },
   "file_extension": ".py",
   "mimetype": "text/x-python",
   "name": "python",
   "nbconvert_exporter": "python",
   "pygments_lexer": "ipython3",
   "version": "3.11.5"
  }
 },
 "nbformat": 4,
 "nbformat_minor": 2
}
