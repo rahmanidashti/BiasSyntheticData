{
 "cells": [
  {
   "cell_type": "markdown",
   "metadata": {},
   "source": [
    "# LLM Judgment - Human Judgment as a Target\n",
    "\n",
    "This experiments applied the signed differecnes of LLM labels and human labels as a target for analysis the features."
   ]
  },
  {
   "cell_type": "code",
   "execution_count": 92,
   "metadata": {},
   "outputs": [],
   "source": [
    "import pandas as pd\n",
    "import glob\n",
    "import statsmodels.api as sm\n",
    "import numpy as np\n",
    "import statsmodels.formula.api as smf"
   ]
  },
  {
   "cell_type": "markdown",
   "metadata": {},
   "source": [
    "### Data"
   ]
  },
  {
   "cell_type": "code",
   "execution_count": 93,
   "metadata": {},
   "outputs": [],
   "source": [
    "results_from = \"LLMJudge2024\""
   ]
  },
  {
   "cell_type": "code",
   "execution_count": 94,
   "metadata": {},
   "outputs": [],
   "source": [
    "def get_trec_qrels():\n",
    "    # Load each text file into a DataFrame\n",
    "    qrel_human_df = pd.read_csv('./qrels/2023.qrels.pass.withDupes.txt', delimiter=' ', header=None, names=['qid', 'Q0', 'docid', 'label'])  # adjust delimiter if necessary\n",
    "    qrel_llm_df = pd.read_csv('./qrels/2023.qrels.pass.gpt4.txt', delimiter=' ', header=None, names=['qid', 'Q0', 'docid', 'label'])\n",
    "\n",
    "    # Merge the two DataFrames based on a common column, e.g., 'id'\n",
    "    qrels_df = pd.merge(qrel_human_df, qrel_llm_df, on=['qid', 'docid'])\n",
    "\n",
    "    qrels_df.drop(['Q0_x'], axis=1, inplace=True)\n",
    "    qrels_df.drop(['Q0_y'], axis=1, inplace=True)\n",
    "\n",
    "    qrels_df.rename(columns={'label_x': 'label_human'}, inplace=True)\n",
    "    qrels_df.rename(columns={'label_y': 'label_llm'}, inplace=True)\n",
    "\n",
    "    qrels_df['llm_human_diff'] = qrels_df['label_llm'] - qrels_df['label_human']\n",
    "\n",
    "    # Display or save the merged DataFrame\n",
    "    # print(qrels_df['llm-human'])"
   ]
  },
  {
   "cell_type": "code",
   "execution_count": 95,
   "metadata": {},
   "outputs": [],
   "source": [
    "qrels = glob.glob(f'./qrels/{results_from}/*.txt')"
   ]
  },
  {
   "cell_type": "code",
   "execution_count": 96,
   "metadata": {},
   "outputs": [],
   "source": [
    "for removed_labler in ['TREMA-rubric0', 'RMITIR-llama70B', 'llmjudge-thomas3', 'Olz-exp', 'llmjudge-simple3', 'NISTRetrieval-instruct0', 'TREMA-4prompts']:\n",
    "    removed_labler = f'./qrels/{results_from}/{removed_labler}.txt'\n",
    "    qrels.remove(removed_labler)"
   ]
  },
  {
   "cell_type": "code",
   "execution_count": 97,
   "metadata": {},
   "outputs": [
    {
     "data": {
      "text/html": [
       "<div>\n",
       "<style scoped>\n",
       "    .dataframe tbody tr th:only-of-type {\n",
       "        vertical-align: middle;\n",
       "    }\n",
       "\n",
       "    .dataframe tbody tr th {\n",
       "        vertical-align: top;\n",
       "    }\n",
       "\n",
       "    .dataframe thead th {\n",
       "        text-align: right;\n",
       "    }\n",
       "</style>\n",
       "<table border=\"1\" class=\"dataframe\">\n",
       "  <thead>\n",
       "    <tr style=\"text-align: right;\">\n",
       "      <th></th>\n",
       "      <th>qid</th>\n",
       "      <th>docid</th>\n",
       "      <th>score</th>\n",
       "      <th>judged_by</th>\n",
       "    </tr>\n",
       "  </thead>\n",
       "  <tbody>\n",
       "    <tr>\n",
       "      <th>0</th>\n",
       "      <td>2002168</td>\n",
       "      <td>msmarco_passage_00_662986293</td>\n",
       "      <td>3</td>\n",
       "      <td>llmjudge.qrels.nist.txt</td>\n",
       "    </tr>\n",
       "    <tr>\n",
       "      <th>1</th>\n",
       "      <td>2002168</td>\n",
       "      <td>msmarco_passage_00_662987062</td>\n",
       "      <td>3</td>\n",
       "      <td>llmjudge.qrels.nist.txt</td>\n",
       "    </tr>\n",
       "    <tr>\n",
       "      <th>2</th>\n",
       "      <td>2002168</td>\n",
       "      <td>msmarco_passage_00_662989674</td>\n",
       "      <td>1</td>\n",
       "      <td>llmjudge.qrels.nist.txt</td>\n",
       "    </tr>\n",
       "    <tr>\n",
       "      <th>3</th>\n",
       "      <td>2002168</td>\n",
       "      <td>msmarco_passage_01_366786438</td>\n",
       "      <td>3</td>\n",
       "      <td>llmjudge.qrels.nist.txt</td>\n",
       "    </tr>\n",
       "    <tr>\n",
       "      <th>4</th>\n",
       "      <td>2002168</td>\n",
       "      <td>msmarco_passage_01_366787276</td>\n",
       "      <td>2</td>\n",
       "      <td>llmjudge.qrels.nist.txt</td>\n",
       "    </tr>\n",
       "    <tr>\n",
       "      <th>...</th>\n",
       "      <td>...</td>\n",
       "      <td>...</td>\n",
       "      <td>...</td>\n",
       "      <td>...</td>\n",
       "    </tr>\n",
       "    <tr>\n",
       "      <th>4418</th>\n",
       "      <td>3100825</td>\n",
       "      <td>msmarco_passage_67_786441513</td>\n",
       "      <td>3</td>\n",
       "      <td>TREMA-direct.txt</td>\n",
       "    </tr>\n",
       "    <tr>\n",
       "      <th>4419</th>\n",
       "      <td>3100825</td>\n",
       "      <td>msmarco_passage_67_797018148</td>\n",
       "      <td>3</td>\n",
       "      <td>TREMA-direct.txt</td>\n",
       "    </tr>\n",
       "    <tr>\n",
       "      <th>4420</th>\n",
       "      <td>3100825</td>\n",
       "      <td>msmarco_passage_68_250089795</td>\n",
       "      <td>2</td>\n",
       "      <td>TREMA-direct.txt</td>\n",
       "    </tr>\n",
       "    <tr>\n",
       "      <th>4421</th>\n",
       "      <td>3100825</td>\n",
       "      <td>msmarco_passage_68_682638740</td>\n",
       "      <td>3</td>\n",
       "      <td>TREMA-direct.txt</td>\n",
       "    </tr>\n",
       "    <tr>\n",
       "      <th>4422</th>\n",
       "      <td>3100825</td>\n",
       "      <td>msmarco_passage_68_807682814</td>\n",
       "      <td>3</td>\n",
       "      <td>TREMA-direct.txt</td>\n",
       "    </tr>\n",
       "  </tbody>\n",
       "</table>\n",
       "<p>13269 rows × 4 columns</p>\n",
       "</div>"
      ],
      "text/plain": [
       "          qid                         docid  score                judged_by\n",
       "0     2002168  msmarco_passage_00_662986293      3  llmjudge.qrels.nist.txt\n",
       "1     2002168  msmarco_passage_00_662987062      3  llmjudge.qrels.nist.txt\n",
       "2     2002168  msmarco_passage_00_662989674      1  llmjudge.qrels.nist.txt\n",
       "3     2002168  msmarco_passage_01_366786438      3  llmjudge.qrels.nist.txt\n",
       "4     2002168  msmarco_passage_01_366787276      2  llmjudge.qrels.nist.txt\n",
       "...       ...                           ...    ...                      ...\n",
       "4418  3100825  msmarco_passage_67_786441513      3         TREMA-direct.txt\n",
       "4419  3100825  msmarco_passage_67_797018148      3         TREMA-direct.txt\n",
       "4420  3100825  msmarco_passage_68_250089795      2         TREMA-direct.txt\n",
       "4421  3100825  msmarco_passage_68_682638740      3         TREMA-direct.txt\n",
       "4422  3100825  msmarco_passage_68_807682814      3         TREMA-direct.txt\n",
       "\n",
       "[13269 rows x 4 columns]"
      ]
     },
     "execution_count": 97,
     "metadata": {},
     "output_type": "execute_result"
    }
   ],
   "source": [
    "qrels_df_list = []\n",
    "\n",
    "for infile in qrels:\n",
    "    judger = infile.split('/')[3]\n",
    "    result_df = pd.read_csv(infile, sep=' ', header=None, names=['qid', 'Q0', 'docid', 'score'])\n",
    "    result_df.drop(['Q0'], axis=1, inplace=True)\n",
    "    result_df['judged_by'] = judger\n",
    "    result_df['qid'] = result_df['qid'].astype(int)\n",
    "    result_df['score'] = result_df['score'].astype(int)\n",
    "    qrels_df_list.append(result_df)\n",
    " \n",
    "qrels_df = pd.concat(qrels_df_list)\n",
    "qrels_df"
   ]
  },
  {
   "cell_type": "code",
   "execution_count": 98,
   "metadata": {},
   "outputs": [],
   "source": [
    "qrels_df['judged_by'] = qrels_df['judged_by'].replace({'llmjudge.qrels.nist.txt': 'Human', 'Olz-gpt4o.txt': 'GPT-4', 'TREMA-direct.txt': 'FlanT5'})"
   ]
  },
  {
   "cell_type": "code",
   "execution_count": 99,
   "metadata": {},
   "outputs": [],
   "source": [
    "qid_to_info = pd.read_csv(\"infos/query_to_info.txt\", sep='\\t')\n",
    "qrels_df = pd.merge(qrels_df, qid_to_info, on='qid')"
   ]
  },
  {
   "cell_type": "code",
   "execution_count": 100,
   "metadata": {},
   "outputs": [],
   "source": [
    "qrels_df.drop(['QL'], axis=1, inplace=True)\n",
    "qrels_df.drop(['isGPT4'], axis=1, inplace=True)\n",
    "qrels_df.drop(['QDR'], axis=1, inplace=True)\n",
    "qrels_df.drop(['QDS'], axis=1, inplace=True)\n",
    "qrels_df.drop(['APL'], axis=1, inplace=True)\n",
    "qrels_df.drop(['QW'], axis=1, inplace=True)"
   ]
  },
  {
   "cell_type": "code",
   "execution_count": 101,
   "metadata": {},
   "outputs": [
    {
     "data": {
      "text/plain": [
       "array([0, 1, 2])"
      ]
     },
     "execution_count": 101,
     "metadata": {},
     "output_type": "execute_result"
    }
   ],
   "source": [
    "qrels_df['QT'].unique()"
   ]
  },
  {
   "cell_type": "code",
   "execution_count": 102,
   "metadata": {},
   "outputs": [],
   "source": [
    "qrels_df['QT'] = qrels_df['QT'].replace({0: 'Real', 1: 'T5', 2: 'GPT-4'})"
   ]
  },
  {
   "cell_type": "code",
   "execution_count": 103,
   "metadata": {},
   "outputs": [
    {
     "data": {
      "text/html": [
       "<div>\n",
       "<style scoped>\n",
       "    .dataframe tbody tr th:only-of-type {\n",
       "        vertical-align: middle;\n",
       "    }\n",
       "\n",
       "    .dataframe tbody tr th {\n",
       "        vertical-align: top;\n",
       "    }\n",
       "\n",
       "    .dataframe thead th {\n",
       "        text-align: right;\n",
       "    }\n",
       "</style>\n",
       "<table border=\"1\" class=\"dataframe\">\n",
       "  <thead>\n",
       "    <tr style=\"text-align: right;\">\n",
       "      <th></th>\n",
       "      <th>qid</th>\n",
       "      <th>docid</th>\n",
       "      <th>score</th>\n",
       "      <th>judged_by</th>\n",
       "      <th>QT</th>\n",
       "    </tr>\n",
       "  </thead>\n",
       "  <tbody>\n",
       "    <tr>\n",
       "      <th>0</th>\n",
       "      <td>2002168</td>\n",
       "      <td>msmarco_passage_00_662986293</td>\n",
       "      <td>3</td>\n",
       "      <td>Human</td>\n",
       "      <td>Real</td>\n",
       "    </tr>\n",
       "    <tr>\n",
       "      <th>1</th>\n",
       "      <td>2002168</td>\n",
       "      <td>msmarco_passage_00_662987062</td>\n",
       "      <td>3</td>\n",
       "      <td>Human</td>\n",
       "      <td>Real</td>\n",
       "    </tr>\n",
       "    <tr>\n",
       "      <th>2</th>\n",
       "      <td>2002168</td>\n",
       "      <td>msmarco_passage_00_662989674</td>\n",
       "      <td>1</td>\n",
       "      <td>Human</td>\n",
       "      <td>Real</td>\n",
       "    </tr>\n",
       "    <tr>\n",
       "      <th>3</th>\n",
       "      <td>2002168</td>\n",
       "      <td>msmarco_passage_01_366786438</td>\n",
       "      <td>3</td>\n",
       "      <td>Human</td>\n",
       "      <td>Real</td>\n",
       "    </tr>\n",
       "    <tr>\n",
       "      <th>4</th>\n",
       "      <td>2002168</td>\n",
       "      <td>msmarco_passage_01_366787276</td>\n",
       "      <td>2</td>\n",
       "      <td>Human</td>\n",
       "      <td>Real</td>\n",
       "    </tr>\n",
       "    <tr>\n",
       "      <th>...</th>\n",
       "      <td>...</td>\n",
       "      <td>...</td>\n",
       "      <td>...</td>\n",
       "      <td>...</td>\n",
       "      <td>...</td>\n",
       "    </tr>\n",
       "    <tr>\n",
       "      <th>13264</th>\n",
       "      <td>3100825</td>\n",
       "      <td>msmarco_passage_67_786441513</td>\n",
       "      <td>3</td>\n",
       "      <td>FlanT5</td>\n",
       "      <td>GPT-4</td>\n",
       "    </tr>\n",
       "    <tr>\n",
       "      <th>13265</th>\n",
       "      <td>3100825</td>\n",
       "      <td>msmarco_passage_67_797018148</td>\n",
       "      <td>3</td>\n",
       "      <td>FlanT5</td>\n",
       "      <td>GPT-4</td>\n",
       "    </tr>\n",
       "    <tr>\n",
       "      <th>13266</th>\n",
       "      <td>3100825</td>\n",
       "      <td>msmarco_passage_68_250089795</td>\n",
       "      <td>2</td>\n",
       "      <td>FlanT5</td>\n",
       "      <td>GPT-4</td>\n",
       "    </tr>\n",
       "    <tr>\n",
       "      <th>13267</th>\n",
       "      <td>3100825</td>\n",
       "      <td>msmarco_passage_68_682638740</td>\n",
       "      <td>3</td>\n",
       "      <td>FlanT5</td>\n",
       "      <td>GPT-4</td>\n",
       "    </tr>\n",
       "    <tr>\n",
       "      <th>13268</th>\n",
       "      <td>3100825</td>\n",
       "      <td>msmarco_passage_68_807682814</td>\n",
       "      <td>3</td>\n",
       "      <td>FlanT5</td>\n",
       "      <td>GPT-4</td>\n",
       "    </tr>\n",
       "  </tbody>\n",
       "</table>\n",
       "<p>13269 rows × 5 columns</p>\n",
       "</div>"
      ],
      "text/plain": [
       "           qid                         docid  score judged_by     QT\n",
       "0      2002168  msmarco_passage_00_662986293      3     Human   Real\n",
       "1      2002168  msmarco_passage_00_662987062      3     Human   Real\n",
       "2      2002168  msmarco_passage_00_662989674      1     Human   Real\n",
       "3      2002168  msmarco_passage_01_366786438      3     Human   Real\n",
       "4      2002168  msmarco_passage_01_366787276      2     Human   Real\n",
       "...        ...                           ...    ...       ...    ...\n",
       "13264  3100825  msmarco_passage_67_786441513      3    FlanT5  GPT-4\n",
       "13265  3100825  msmarco_passage_67_797018148      3    FlanT5  GPT-4\n",
       "13266  3100825  msmarco_passage_68_250089795      2    FlanT5  GPT-4\n",
       "13267  3100825  msmarco_passage_68_682638740      3    FlanT5  GPT-4\n",
       "13268  3100825  msmarco_passage_68_807682814      3    FlanT5  GPT-4\n",
       "\n",
       "[13269 rows x 5 columns]"
      ]
     },
     "execution_count": 103,
     "metadata": {},
     "output_type": "execute_result"
    }
   ],
   "source": [
    "qrels_df"
   ]
  },
  {
   "cell_type": "code",
   "execution_count": 143,
   "metadata": {},
   "outputs": [
    {
     "data": {
      "image/png": "[encoded data removed]",
      "text/plain": [
       "<Figure size 1625.5x500 with 3 Axes>"
      ]
     },
     "metadata": {},
     "output_type": "display_data"
    }
   ],
   "source": [
    "import seaborn as sns\n",
    "import matplotlib.pyplot as plt\n",
    "\n",
    "df = qrels_df.copy()\n",
    "\n",
    "df['score'] = df['score'].astype('category')\n",
    "\n",
    "sns.set_style(\"ticks\")  # Options: white, dark, whitegrid, darkgrid, ticks\n",
    "sns.set_context(\"poster\", font_scale =0.6)     # Options: paper, notebook, talk, poster\n",
    "sns.set_palette(\"bright\")   # You can also use: deep, muted, bright, dark, colorblind, or a custom list of colors\n",
    "\n",
    "# Create a FacetGrid for the label type\n",
    "g = sns.FacetGrid(df, col=\"QT\", hue=\"judged_by\", height=5)\n",
    "\n",
    "# Add a histogram to the FacetGrid\n",
    "g.map(sns.histplot, 'score', stat=\"proportion\", hue = 'judged_by', multiple='dodge', shrink = .8, common_norm=False, data = df)\n",
    "\n",
    "# Adjust the titles and labels\n",
    "g.add_legend()\n",
    "g.set_axis_labels(\"\", \"Proportion\")\n",
    "g.set_titles(col_template=\"{col_name}\")\n",
    "\n",
    "titles = ['Relevance Labels for Human Generated Queries', 'Relevance Labels for T5 Generated Queries', 'Relevance Labels for GPT-4 Generated Queries']\n",
    "\n",
    "for ax, title in zip(g.axes.flatten(),titles):\n",
    "    ax.set_title(title)\n",
    "    \n",
    "sns.move_legend(g, ncol=5, loc='upper center', title = '', bbox_to_anchor=(0.5, 1.05))\n",
    "\n",
    "# Adjust layout\n",
    "plt.subplots_adjust(top=0.85)\n",
    "\n",
    "# Show the plot\n",
    "plt.xticks([0, 1, 2, 3])  # Set y-ticks to 0, 1, 2, 3\n",
    "plt.tight_layout()\n",
    "plt.savefig(\"figs/label_barplots_new.pdf\", bbox_inches=\"tight\")\n",
    "plt.show()"
   ]
  },
  {
   "cell_type": "code",
   "execution_count": 178,
   "metadata": {},
   "outputs": [
    {
     "data": {
      "image/png": "[encoded data removed]",
      "text/plain": [
       "<Figure size 1625.5x1500 with 9 Axes>"
      ]
     },
     "metadata": {},
     "output_type": "display_data"
    }
   ],
   "source": [
    "import seaborn as sns\n",
    "import matplotlib.pyplot as plt\n",
    "\n",
    "df = qrels_df.copy()\n",
    "\n",
    "df['score'] = df['score'].astype('category')\n",
    "\n",
    "df['col_wrap'] = (df['judged_by'].astype(str) + 'Generated Labels for ' + df['QT'].astype(str) + ' Generated Queries').astype(\"category\")\n",
    "\n",
    "\n",
    "sns.set_style(\"ticks\")  # Options: white, dark, whitegrid, darkgrid, ticks\n",
    "sns.set_context(\"poster\", font_scale =0.6)     # Options: paper, notebook, talk, poster\n",
    "sns.set_palette(\"bright\")   # You can also use: deep, muted, bright, dark, colorblind, or a custom list of colors\n",
    "\n",
    "# Create a FacetGrid for the label type\n",
    "g = sns.FacetGrid(df, row=\"QT\", col = 'judged_by', hue=\"judged_by\", height=5)\n",
    "\n",
    "# Add a histogram to the FacetGrid\n",
    "g.map(sns.histplot, 'score', stat=\"proportion\", multiple='dodge', shrink = .8, common_norm=False, data = df)\n",
    "\n",
    "# Adjust the titles and labels\n",
    "g.add_legend()\n",
    "g.set_axis_labels(\"\", \"Proportion\")\n",
    "\n",
    "# Manually define the titles for each subplot\n",
    "titles = [\n",
    "    'Human Relevance Labels for Human Queries',\n",
    "        'GPT-4 Relevance Labels for Human Queries',\n",
    "    'T5 Relevance Labels for Human Queries',\n",
    "    'Human Relevance Labels for T5 Queries',\n",
    "        'GPT-4 Relevance Labels for T5 Queries',\n",
    "    'T5 Relevance Labels for T5 Queries',\n",
    "    'Human Relevance Labels for GPT-4 Queries',\n",
    "        'GPT-4 Relevance Labels for GPT-4 Queries',\n",
    "    'T5 Relevance Labels for GPT-4 Queries'\n",
    "]\n",
    "\n",
    "# Assign each title to the corresponding subplot\n",
    "for ax, title in zip(g.axes.flatten(), titles):\n",
    "    ax.set_title(title, fontsize=14, fontweight='bold')  # Adjust fontsize as needed\n",
    "\n",
    "#g.set_titles(row_template=\"{row_name} Generated Queries\", col_template=\"{col_name} Relevance Labels\")\n",
    "\n",
    "    \n",
    "sns.move_legend(g, ncol=5, loc='upper center', title = '', bbox_to_anchor=(0.5, 1.02))\n",
    "\n",
    "plt.xticks([0, 1, 2, 3], fontsize=12, fontweight='bold')  # Set x-ticks and make them bold\n",
    "plt.yticks(fontsize=12, fontweight='bold')  # Set y-ticks and make them bold\n",
    "\n",
    "# Adjust layout\n",
    "plt.subplots_adjust(top=0.85)\n",
    "\n",
    "# Show the plot\n",
    "plt.xticks([0, 1, 2, 3])  # Set y-ticks to 0, 1, 2, 3\n",
    "plt.tight_layout()\n",
    "plt.savefig(\"figs/label_barplots_new_large.pdf\", bbox_inches=\"tight\")\n",
    "plt.show()"
   ]
  },
  {
   "cell_type": "code",
   "execution_count": null,
   "metadata": {},
   "outputs": [],
   "source": [
    "from scipy.stats import wilcoxon\n",
    "\n",
    "\n",
    "\n",
    "# Perform Wilcoxon Signed-Rank Test (one-sided, alternative that GPT-4 labels are greater, null that GPT-4 labels are smaller than or equal to human)\n",
    "stat, p_value = wilcoxon(data['label_human'], data['label_llm'], alternative='less')\n",
    "print(f\"Wilcoxon Signed-Rank statistic: {stat}, p-value: {p_value}\")\n",
    "\n",
    "stat, p_value = wilcoxon(data['llm_human_diff'], alternative='greater')\n",
    "print(f\"Wilcoxon Signed-Rank statistic: {stat}, p-value: {p_value}\")\n",
    "\n",
    "# Perform Wilcoxon Signed-Rank Test (one-sided, alternative that GPT-4 labels are smaller, null that GPT-4 labels are greater than or equal to human)\n",
    "stat, p_value = wilcoxon(data['label_human'], data['label_llm'], alternative='greater')\n",
    "print(f\"Wilcoxon Signed-Rank statistic: {stat}, p-value: {p_value}\")\n",
    "\n",
    "stat, p_value = wilcoxon(data['llm_human_diff'], alternative='less')\n",
    "print(f\"Wilcoxon Signed-Rank statistic: {stat}, p-value: {p_value}\")\n",
    "\n",
    "\n",
    "\n",
    "# Perform Wilcoxon Signed-Rank Test (two-sided)\n",
    "stat, p_value = wilcoxon(data['label_human'], data['label_llm'], alternative='two-sided')\n",
    "print(f\"Wilcoxon Signed-Rank statistic: {stat}, p-value: {p_value}\")"
   ]
  },
  {
   "cell_type": "markdown",
   "metadata": {},
   "source": [
    "### Modelling LLM Label "
   ]
  },
  {
   "cell_type": "code",
   "execution_count": 13,
   "metadata": {},
   "outputs": [],
   "source": [
    "mixed_model_1 = \"label_llm ~ label_human * (QL + QW + PW + QT)\"\n",
    "mixed_model = \"llm_human_diff ~ QL + QW + QT+ PW\"\n",
    "mixed_model_int = \"llm_human_diff ~ QT * (QL + QW + PW)\""
   ]
  },
  {
   "cell_type": "code",
   "execution_count": null,
   "metadata": {},
   "outputs": [],
   "source": [
    "model = sm.MixedLM.from_formula(mixed_model_1, data, groups=data[\"docid\"])\n",
    "result = model.fit()\n",
    "result.summary()"
   ]
  },
  {
   "cell_type": "code",
   "execution_count": null,
   "metadata": {},
   "outputs": [],
   "source": [
    "plot_coef(result)\n",
    "plot_residuals(result)"
   ]
  },
  {
   "cell_type": "code",
   "execution_count": null,
   "metadata": {},
   "outputs": [],
   "source": [
    "model = smf.glm(formula=mixed_model_1, data=data, family=sm.families.Poisson())\n",
    "result = model.fit()\n",
    "result.summary()"
   ]
  },
  {
   "cell_type": "code",
   "execution_count": null,
   "metadata": {},
   "outputs": [],
   "source": [
    "plot_coef(result)"
   ]
  },
  {
   "cell_type": "code",
   "execution_count": null,
   "metadata": {},
   "outputs": [],
   "source": [
    "data_log = data.copy()\n",
    "\n",
    "data_log['label_llm'] = np.log(data_log['label_llm'])\n",
    "model = model = sm.MixedLM.from_formula(mixed_model_1, data, groups=data_log[\"docid\"])\n",
    "\n",
    "result = model.fit()\n",
    "result.summary()"
   ]
  },
  {
   "cell_type": "code",
   "execution_count": null,
   "metadata": {},
   "outputs": [],
   "source": [
    "data_cat = data.copy()\n",
    "\n",
    "data_cat = pd.melt(data_cat, value_vars = ['label_human', 'label_llm'], \n",
    "                   id_vars = ['QL',\n",
    "       'QDR', 'QDS', 'QW', 'PW', 'QT', 'qid', 'docid'],\n",
    "              var_name = 'label_type', value_name = 'label')\n",
    "\n",
    "\n",
    "print(data_cat)\n",
    "\n",
    "mixed_model = \"label ~ label_type * (QW + PW + QT)\"\n",
    "\n",
    "\n",
    "model = sm.MixedLM.from_formula(mixed_model, data_cat, groups=data_cat[\"docid\"])\n",
    "result = model.fit()\n",
    "result.summary()"
   ]
  },
  {
   "cell_type": "code",
   "execution_count": null,
   "metadata": {},
   "outputs": [],
   "source": [
    "df = data_cat[['label', 'label_type', 'QW', 'PW', 'QT']]\n",
    "df['label'] = df['label'].astype('category')\n",
    "\n",
    "import seaborn as sns\n",
    "\n",
    "\n",
    "# Set the aesthetic style of the plots\n",
    "sns.set(style=\"whitegrid\")\n",
    "\n",
    "# Create a FacetGrid for the label type\n",
    "g = sns.FacetGrid(df, col=\"label_type\", hue=\"QT\", height=5)\n",
    "\n",
    "# Add a histogram to the FacetGrid\n",
    "g.map(sns.histplot, 'label', stat=\"count\", hue = 'QT', multiple='dodge', shrink = .8, common_norm=False, data = df)\n",
    "\n",
    "# Adjust the titles and labels\n",
    "g.add_legend()\n",
    "g.set_axis_labels(\"Relevance Label\", \"Count\")\n",
    "g.set_titles(col_template=\"{col_name}\")\n",
    "\n",
    "# Adjust layout\n",
    "plt.subplots_adjust(top=0.85)\n",
    "g.fig.suptitle('Distribution of Relevance Judgements by Label Type and Query Type')\n",
    "\n",
    "# Show the plot\n",
    "plt.xticks([0, 1, 2, 3])  # Set y-ticks to 0, 1, 2, 3\n",
    "plt.show()"
   ]
  },
  {
   "cell_type": "code",
   "execution_count": null,
   "metadata": {},
   "outputs": [],
   "source": [
    "df = data_cat[['label', 'label_type', 'QW', 'PW', 'QT']]\n",
    "df['label'] = df['label'].astype('category')\n",
    "df['QT'] = df['QT'].replace({0: 'Human generated Query', 1: 'T5 generated Query', 2: 'GPT-4 generated Query'})\n",
    "df['label_type'] = df['label_type'].replace({'label_human': 'Human Generated Labels', 'label_llm':'GPT-4 Generated Labels'})\n",
    "\n",
    "\n",
    "import seaborn as sns\n",
    "\n",
    "\n",
    "sns.set_style(\"ticks\")  # Options: white, dark, whitegrid, darkgrid, ticks\n",
    "sns.set_context(\"poster\", font_scale =0.6)     # Options: paper, notebook, talk, poster\n",
    "sns.set_palette(\"bright\")   # You can also use: deep, muted, bright, dark, colorblind, or a custom list of colors\n",
    "\n",
    "# Create a FacetGrid for the label type\n",
    "g = sns.FacetGrid(df, col=\"QT\", hue=\"label_type\", height=5)\n",
    "\n",
    "# Add a histogram to the FacetGrid\n",
    "g.map(sns.histplot, 'label', stat=\"proportion\", hue = 'label_type', multiple='dodge', shrink = .8, common_norm=False, data = df)\n",
    "\n",
    "# Adjust the titles and labels\n",
    "g.add_legend()\n",
    "g.set_axis_labels(\"\", \"Proportion\")\n",
    "g.set_titles(col_template=\"{col_name}\")\n",
    "\n",
    "titles = ['Relevance Labels for Human Generated Queries', 'Relevance Labels for T5 Generated Queries', 'Relevance Labels for GPT-4 Generated Queries']\n",
    "\n",
    "for ax, title in zip(g.axes.flatten(),titles):\n",
    "    ax.set_title(title)\n",
    "    \n",
    "sns.move_legend(g, ncol=3, loc='upper center', title = '')\n",
    "\n",
    "# Adjust layout\n",
    "plt.subplots_adjust(top=0.85)\n",
    "\n",
    "# Show the plot\n",
    "plt.xticks([0, 1, 2, 3])  # Set y-ticks to 0, 1, 2, 3\n",
    "plt.savefig(\"figs/label_barplots.pdf\", bbox_inches=\"tight\")\n",
    "plt.show()\n"
   ]
  },
  {
   "cell_type": "code",
   "execution_count": null,
   "metadata": {},
   "outputs": [],
   "source": [
    "import pandas as pd\n",
    "from scipy.stats import chi2_contingency\n",
    "\n",
    "# Contingency table\n",
    "contingency_table = pd.crosstab(df['label'], df['label_type'])\n",
    "\n",
    "# Chi-square test\n",
    "chi2, p, dof, expected = chi2_contingency(contingency_table)\n",
    "\n",
    "print(f'Chi-square statistic: {chi2}, p-value: {p}')"
   ]
  },
  {
   "cell_type": "code",
   "execution_count": null,
   "metadata": {},
   "outputs": [],
   "source": [
    "from scipy.stats import wilcoxon\n",
    "\n",
    "\n",
    "# Perform Wilcoxon Signed-Rank Test (one-sided, alternative that GPT-4 labels are greater, null that GPT-4 labels are smaller than or equal to human)\n",
    "stat, p_value = wilcoxon(data['label_human'], data['label_llm'], alternative='less')\n",
    "print(f\"Wilcoxon Signed-Rank statistic: {stat}, p-value: {p_value}\")\n",
    "\n",
    "stat, p_value = wilcoxon(data['llm_human_diff'], alternative='greater')\n",
    "print(f\"Wilcoxon Signed-Rank statistic: {stat}, p-value: {p_value}\")\n",
    "\n",
    "# Perform Wilcoxon Signed-Rank Test (one-sided, alternative that GPT-4 labels are smaller, null that GPT-4 labels are greater than or equal to human)\n",
    "stat, p_value = wilcoxon(data['label_human'], data['label_llm'], alternative='greater')\n",
    "print(f\"Wilcoxon Signed-Rank statistic: {stat}, p-value: {p_value}\")\n",
    "\n",
    "stat, p_value = wilcoxon(data['llm_human_diff'], alternative='less')\n",
    "print(f\"Wilcoxon Signed-Rank statistic: {stat}, p-value: {p_value}\")\n",
    "\n",
    "\n",
    "\n",
    "# Perform Wilcoxon Signed-Rank Test (two-sided)\n",
    "stat, p_value = wilcoxon(data['label_human'], data['label_llm'], alternative='two-sided')\n",
    "print(f\"Wilcoxon Signed-Rank statistic: {stat}, p-value: {p_value}\")\n"
   ]
  },
  {
   "cell_type": "code",
   "execution_count": null,
   "metadata": {},
   "outputs": [],
   "source": [
    "plot_coef(result)\n",
    "plot_residuals(result)"
   ]
  },
  {
   "cell_type": "code",
   "execution_count": null,
   "metadata": {},
   "outputs": [],
   "source": [
    "model = smf.glm(formula=mixed_model, data=data_cat, family=sm.families.Poisson())\n",
    "result = model.fit()\n",
    "result.summary()"
   ]
  },
  {
   "cell_type": "code",
   "execution_count": null,
   "metadata": {},
   "outputs": [],
   "source": [
    "model = smf.glm(formula=mixed_model, data=data_cat, family=sm.families.NegativeBinomial())\n",
    "result = model.fit()\n",
    "result.summary()"
   ]
  },
  {
   "cell_type": "code",
   "execution_count": null,
   "metadata": {},
   "outputs": [],
   "source": [
    "plot_coef(result)"
   ]
  },
  {
   "cell_type": "code",
   "execution_count": null,
   "metadata": {},
   "outputs": [],
   "source": [
    "from statsmodels.miscmodels.ordinal_model import OrderedModel\n",
    "\n",
    "\n",
    "\n",
    "# Fit ordinal logistic regression model\n",
    "model = OrderedModel(data_cat['label'], exog, distr='logit')\n",
    "result = model.fit(method='bfgs')\n",
    "\n",
    "# Print the summary\n",
    "print(result.summary())"
   ]
  },
  {
   "cell_type": "code",
   "execution_count": null,
   "metadata": {},
   "outputs": [],
   "source": [
    "mixed_model_int = \"score ~ isGPT4 + Judge + QL + QDR + QW + C(LLM, Treatment(reference='Other')) + C(Judge, Treatment(reference='nist')) * C(LLM, Treatment(reference='Other')) + isGPT4 * C(LLM, Treatment(reference='Other')) + pipeline\""
   ]
  },
  {
   "cell_type": "code",
   "execution_count": null,
   "metadata": {},
   "outputs": [],
   "source": [
    "model = sm.MixedLM.from_formula(mixed_model_int, data, groups=data[\"run_id\"])\n",
    "result = model.fit()\n",
    "result.summary()"
   ]
  },
  {
   "cell_type": "code",
   "execution_count": null,
   "metadata": {},
   "outputs": [],
   "source": [
    "real_queries_real_judgments = data[((data['Judge'] == 'nist') & (data['qid'].isin(real_queries_judged)))]\n",
    "synthetic_queries_real_judgments = data[((data['Judge'] == 'nist') & (data['qid'].isin(t5_queries_judged) | data['qid'].isin(gpt4_queries_judged)))]"
   ]
  },
  {
   "cell_type": "code",
   "execution_count": null,
   "metadata": {},
   "outputs": [],
   "source": [
    "real_queries_synthetic_judgments = data[((data['Judge'] == 'gpt4') & (data['qid'].isin(real_queries_judged)))]\n",
    "synthetic_queries_synthetic_judgments = data[((data['Judge'] == 'gpt4') & (data['qid'].isin(t5_queries_judged) | data['qid'].isin(gpt4_queries_judged)))]"
   ]
  },
  {
   "cell_type": "code",
   "execution_count": null,
   "metadata": {},
   "outputs": [],
   "source": [
    "mixed_model_condition_Qreal = \"score ~ QL + QDR + QW + C(LLM, Treatment(reference='Other')) + pipeline\"\n",
    "mixed_model_condition_Qsynthetic = \"score ~ QL + QDS + QW + C(LLM, Treatment(reference='Other')) + pipeline\""
   ]
  },
  {
   "cell_type": "code",
   "execution_count": null,
   "metadata": {},
   "outputs": [],
   "source": [
    "model = sm.MixedLM.from_formula(mixed_model_condition_Qreal, real_queries_real_judgments, groups=real_queries_real_judgments[\"run_id\"])\n",
    "result = model.fit()\n",
    "result.summary()"
   ]
  },
  {
   "cell_type": "code",
   "execution_count": null,
   "metadata": {},
   "outputs": [],
   "source": [
    "model = sm.MixedLM.from_formula(mixed_model_condition_Qsynthetic, synthetic_queries_real_judgments, groups=synthetic_queries_real_judgments[\"run_id\"])\n",
    "result = model.fit()\n",
    "result.summary()"
   ]
  },
  {
   "cell_type": "code",
   "execution_count": null,
   "metadata": {},
   "outputs": [],
   "source": [
    "model = sm.MixedLM.from_formula(mixed_model_condition_Qreal, real_queries_synthetic_judgments, groups=real_queries_synthetic_judgments[\"run_id\"])\n",
    "result = model.fit()\n",
    "result.summary()"
   ]
  },
  {
   "cell_type": "code",
   "execution_count": null,
   "metadata": {},
   "outputs": [],
   "source": [
    "model = sm.MixedLM.from_formula(mixed_model_condition_Qsynthetic, synthetic_queries_synthetic_judgments, groups=synthetic_queries_synthetic_judgments[\"run_id\"])\n",
    "result = model.fit()\n",
    "result.summary()"
   ]
  },
  {
   "cell_type": "code",
   "execution_count": null,
   "metadata": {},
   "outputs": [],
   "source": [
    "# Merging the dataframes on 'run_id' and 'qid'\n",
    "real_queries_diff = pd.merge(real_queries_real_judgments, real_queries_synthetic_judgments[['run_id', 'qid', 'score']], on=['run_id', 'qid'], suffixes=('_a', '_b'))\n",
    "# Subtracting the 'Score' values\n",
    "real_queries_diff['score_ab'] = real_queries_diff['score_a'] - real_queries_diff['score_b']\n",
    "real_queries_diff['score_ba'] = real_queries_diff['score_b'] - real_queries_diff['score_a']"
   ]
  },
  {
   "cell_type": "code",
   "execution_count": null,
   "metadata": {},
   "outputs": [],
   "source": [
    "real_queries_diff"
   ]
  },
  {
   "cell_type": "code",
   "execution_count": null,
   "metadata": {},
   "outputs": [],
   "source": [
    "model = sm.MixedLM.from_formula(\"score_ab ~ QL + QDR + QW + C(LLM, Treatment(reference='Other')) + pipeline\", real_queries_diff, groups=real_queries_diff[\"run_id\"])\n",
    "result = model.fit()\n",
    "result.summary()"
   ]
  },
  {
   "cell_type": "code",
   "execution_count": null,
   "metadata": {},
   "outputs": [],
   "source": [
    "model = sm.MixedLM.from_formula(\"score_ba ~ QL + QDR + QW + C(LLM, Treatment(reference='Other')) + pipeline\", real_queries_diff, groups=real_queries_diff[\"run_id\"])\n",
    "result = model.fit()\n",
    "result.summary()"
   ]
  },
  {
   "cell_type": "code",
   "execution_count": null,
   "metadata": {},
   "outputs": [],
   "source": [
    "# Merging the dataframes on 'run_id' and 'qid'\n",
    "synthetic_queries_diff = pd.merge(synthetic_queries_real_judgments, synthetic_queries_synthetic_judgments[['run_id', 'qid', 'score']], on=['run_id', 'qid'], suffixes=('_a', '_b'))\n",
    "# Subtracting the 'Score' values\n",
    "synthetic_queries_diff['score_ab'] = synthetic_queries_diff['score_a'] - synthetic_queries_diff['score_b']\n",
    "synthetic_queries_diff['score_ba'] = synthetic_queries_diff['score_b'] - synthetic_queries_diff['score_a']"
   ]
  },
  {
   "cell_type": "code",
   "execution_count": null,
   "metadata": {},
   "outputs": [],
   "source": [
    "synthetic_queries_diff"
   ]
  },
  {
   "cell_type": "code",
   "execution_count": null,
   "metadata": {},
   "outputs": [],
   "source": [
    "model = sm.MixedLM.from_formula(\"score_ab ~ QL + QDR + QW + C(LLM, Treatment(reference='Other')) + pipeline\", synthetic_queries_diff, groups=synthetic_queries_diff[\"run_id\"])\n",
    "result = model.fit()\n",
    "result.summary()"
   ]
  },
  {
   "cell_type": "code",
   "execution_count": null,
   "metadata": {},
   "outputs": [],
   "source": [
    "model = sm.MixedLM.from_formula(\"score_ba ~ QL + QDR + QW + C(LLM, Treatment(reference='Other')) + pipeline\", synthetic_queries_diff, groups=synthetic_queries_diff[\"run_id\"])\n",
    "result = model.fit()\n",
    "result.summary()"
   ]
  },
  {
   "cell_type": "markdown",
   "metadata": {},
   "source": [
    "## Extra Experiments (refer to: \"Extra Exp. 1\")"
   ]
  },
  {
   "cell_type": "code",
   "execution_count": null,
   "metadata": {},
   "outputs": [],
   "source": [
    "def get_result(result_file):\n",
    "    result_df = pd.read_csv(result_file, sep='\\t', header=None, names=['run_id', 'metric', 'qid', 'score'])\n",
    "    result_df = result_df[result_df['qid'] != 'all']\n",
    "    result_df['score'] = result_df['score'].astype(float)\n",
    "    result_df['qid'] = result_df['qid'].astype(int)\n",
    "    result_df['metric'] = result_df['metric'].apply(lambda x: x.rstrip())\n",
    "    result_df = result_df[(result_df['metric'] == metric)]\n",
    "    result_df.drop(['metric'], axis=1, inplace=True)\n",
    "    return result_df"
   ]
  },
  {
   "cell_type": "code",
   "execution_count": null,
   "metadata": {},
   "outputs": [],
   "source": [
    "real_judge_results = get_result(result_file=\"results/all.pass.nist.ndcgeval\")\n",
    "synthetic_judge_results = get_result(result_file=\"results/all.pass.gpt4.ndcgeval\")"
   ]
  },
  {
   "cell_type": "code",
   "execution_count": null,
   "metadata": {},
   "outputs": [],
   "source": [
    "# Merging the dataframes on 'run_id' and 'qid'\n",
    "results_diff = pd.merge(real_judge_results, synthetic_judge_results, on=['run_id', 'qid'], suffixes=('_real', '_synthetic'))\n",
    "# Subtracting the 'Score' values\n",
    "results_diff['score_RS'] = results_diff['score_real'] - results_diff['score_synthetic']\n",
    "results_diff['score_SR'] = results_diff['score_synthetic'] - results_diff['score_real']"
   ]
  },
  {
   "cell_type": "code",
   "execution_count": null,
   "metadata": {},
   "outputs": [],
   "source": [
    "results_diff = pd.merge(results_diff, qid_to_info, on='qid')\n",
    "results_diff = pd.merge(results_diff, model_to_info, on='run_id')"
   ]
  },
  {
   "cell_type": "code",
   "execution_count": null,
   "metadata": {},
   "outputs": [],
   "source": [
    "results_diff"
   ]
  },
  {
   "cell_type": "markdown",
   "metadata": {},
   "source": [
    "Selected: score_SR"
   ]
  },
  {
   "cell_type": "code",
   "execution_count": null,
   "metadata": {},
   "outputs": [],
   "source": [
    "results_diff['qd_RS'] = results_diff['QDR'] - results_diff['QDS']\n",
    "results_diff['qd_SR'] = results_diff['QDS'] - results_diff['QDR']"
   ]
  },
  {
   "cell_type": "code",
   "execution_count": null,
   "metadata": {},
   "outputs": [],
   "source": [
    "mixed_model_1 = \"score_SR ~ Synthetic + QL + qd_SR + QW + DL + pipeline + C(LLM, Treatment(reference='Other')) + Synthetic * C(LLM, Treatment(reference='Other'))\""
   ]
  },
  {
   "cell_type": "code",
   "execution_count": null,
   "metadata": {},
   "outputs": [],
   "source": [
    "model = sm.MixedLM.from_formula(mixed_model_1, results_diff, groups=results_diff[\"run_id\"])\n",
    "result = model.fit()\n",
    "result.summary()"
   ]
  },
  {
   "cell_type": "code",
   "execution_count": null,
   "metadata": {},
   "outputs": [],
   "source": []
  }
 ],
 "metadata": {
  "kernelspec": {
   "display_name": "base",
   "language": "python",
   "name": "python3"
  },
  "language_info": {
   "codemirror_mode": {
    "name": "ipython",
    "version": 3
   },
   "file_extension": ".py",
   "mimetype": "text/x-python",
   "name": "python",
   "nbconvert_exporter": "python",
   "pygments_lexer": "ipython3",
   "version": "3.11.5"
  }
 },
 "nbformat": 4,
 "nbformat_minor": 2
}
