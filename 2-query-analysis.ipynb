{
 "cells": [
  {
   "cell_type": "code",
   "execution_count": 1,
   "metadata": {},
   "outputs": [],
   "source": [
    "import pandas as pd\n",
    "from collections import defaultdict"
   ]
  },
  {
   "cell_type": "code",
   "execution_count": 2,
   "metadata": {},
   "outputs": [],
   "source": [
    "nist_qrel_file = 'qrels/2023.qrels.pass.withDupes.txt'\n",
    "dl_2023_queries = \"dl-2023-queries.tsv\""
   ]
  },
  {
   "cell_type": "code",
   "execution_count": 3,
   "metadata": {},
   "outputs": [
    {
     "data": {
      "text/html": [
       "<div>\n",
       "<style scoped>\n",
       "    .dataframe tbody tr th:only-of-type {\n",
       "        vertical-align: middle;\n",
       "    }\n",
       "\n",
       "    .dataframe tbody tr th {\n",
       "        vertical-align: top;\n",
       "    }\n",
       "\n",
       "    .dataframe thead th {\n",
       "        text-align: right;\n",
       "    }\n",
       "</style>\n",
       "<table border=\"1\" class=\"dataframe\">\n",
       "  <thead>\n",
       "    <tr style=\"text-align: right;\">\n",
       "      <th></th>\n",
       "      <th>qid</th>\n",
       "      <th>qtext</th>\n",
       "    </tr>\n",
       "  </thead>\n",
       "  <tbody>\n",
       "    <tr>\n",
       "      <th>0</th>\n",
       "      <td>2000138</td>\n",
       "      <td>How does the process of digestion and metaboli...</td>\n",
       "    </tr>\n",
       "    <tr>\n",
       "      <th>1</th>\n",
       "      <td>2000438</td>\n",
       "      <td>apatite definition</td>\n",
       "    </tr>\n",
       "    <tr>\n",
       "      <th>2</th>\n",
       "      <td>2000727</td>\n",
       "      <td>calculate salary from basic pay</td>\n",
       "    </tr>\n",
       "    <tr>\n",
       "      <th>3</th>\n",
       "      <td>2000882</td>\n",
       "      <td>cerebellar disease definition</td>\n",
       "    </tr>\n",
       "    <tr>\n",
       "      <th>4</th>\n",
       "      <td>2001010</td>\n",
       "      <td>cost comparison of funerals in australia</td>\n",
       "    </tr>\n",
       "  </tbody>\n",
       "</table>\n",
       "</div>"
      ],
      "text/plain": [
       "       qid                                              qtext\n",
       "0  2000138  How does the process of digestion and metaboli...\n",
       "1  2000438                                 apatite definition\n",
       "2  2000727                    calculate salary from basic pay\n",
       "3  2000882                      cerebellar disease definition\n",
       "4  2001010           cost comparison of funerals in australia"
      ]
     },
     "execution_count": 3,
     "metadata": {},
     "output_type": "execute_result"
    }
   ],
   "source": [
    "queries = pd.read_csv(dl_2023_queries, sep='\\t', header=None, names=['qid', 'qtext'])\n",
    "queries.head()"
   ]
  },
  {
   "cell_type": "code",
   "execution_count": 4,
   "metadata": {},
   "outputs": [],
   "source": [
    "nist_qrels = pd.read_csv(nist_qrel_file, sep=' ', header=None, names=['qid', 'Q0', 'docid', 'rel'])\n",
    "queries_judged = set(nist_qrels['qid'])\n",
    "real_queries_judged = [x for x in queries_judged if x < 3000000]\n",
    "t5_queries_judged = [x for x in queries_judged if x > 3000000 and x < 3100000]\n",
    "gpt4_queries_judged = [x for x in queries_judged if x > 3100000]"
   ]
  },
  {
   "cell_type": "code",
   "execution_count": 11,
   "metadata": {},
   "outputs": [],
   "source": [
    "real_queries = queries[queries['qid'].isin(real_queries_judged)]\n",
    "synthetic_queries = queries[queries['qid'].isin(t5_queries_judged + gpt4_queries_judged)]"
   ]
  },
  {
   "cell_type": "code",
   "execution_count": 39,
   "metadata": {},
   "outputs": [],
   "source": [
    "def get_query_length(queries):\n",
    "    qlen_to_count = defaultdict(int)\n",
    "\n",
    "    for eachline in queries.itertuples(index=True):\n",
    "        qid, qtext = eachline.qid, eachline.qtext\n",
    "        qlen = len(qtext.split(\" \"))\n",
    "        qlen_to_count[qlen] += 1 \n",
    "    return qlen_to_count"
   ]
  },
  {
   "cell_type": "code",
   "execution_count": null,
   "metadata": {},
   "outputs": [],
   "source": [
    "qlen_to_count_real = get_query_length(real_queries)\n",
    "qlen_to_count_synthetic = get_query_length(synthetic_queries)"
   ]
  },
  {
   "cell_type": "code",
   "execution_count": 48,
   "metadata": {},
   "outputs": [],
   "source": [
    "for qlen, qcount in qlen_to_count_real.items():\n",
    "    precentage = round(qcount * 100 / sum(qlen_to_count_real.values()), 2)\n",
    "    qlen_to_count_real[qlen] = precentage"
   ]
  },
  {
   "cell_type": "code",
   "execution_count": 50,
   "metadata": {},
   "outputs": [],
   "source": [
    "for qlen, qcount in qlen_to_count_synthetic.items():\n",
    "    precentage = round(qcount * 100 / sum(qlen_to_count_synthetic.values()), 2)\n",
    "    qlen_to_count_synthetic[qlen] = precentage"
   ]
  },
  {
   "cell_type": "code",
   "execution_count": 52,
   "metadata": {},
   "outputs": [
    {
     "data": {
      "text/plain": [
       "[(2, 5.67),\n",
       " (3, 1.43),\n",
       " (4, 17.63),\n",
       " (5, 15.97),\n",
       " (6, 24.81),\n",
       " (7, 13.83),\n",
       " (8, 8.87),\n",
       " (9, 1.38),\n",
       " (10, 1.38),\n",
       " (14, 1.39)]"
      ]
     },
     "execution_count": 52,
     "metadata": {},
     "output_type": "execute_result"
    }
   ],
   "source": [
    "qlen_to_count_real = sorted(qlen_to_count_real.items())\n",
    "qlen_to_count_real"
   ]
  },
  {
   "cell_type": "code",
   "execution_count": 53,
   "metadata": {},
   "outputs": [
    {
     "data": {
      "text/plain": [
       "[(4, 7.73),\n",
       " (5, 1.97),\n",
       " (6, 12.53),\n",
       " (7, 12.9),\n",
       " (8, 6.33),\n",
       " (9, 1.8),\n",
       " (10, 4.74),\n",
       " (11, 3.55),\n",
       " (12, 4.94),\n",
       " (13, 6.92),\n",
       " (15, 1.6)]"
      ]
     },
     "execution_count": 53,
     "metadata": {},
     "output_type": "execute_result"
    }
   ],
   "source": [
    "qlen_to_count_synthetic = sorted(qlen_to_count_synthetic.items())\n",
    "qlen_to_count_synthetic"
   ]
  },
  {
   "cell_type": "code",
   "execution_count": 83,
   "metadata": {},
   "outputs": [
    {
     "data": {
      "image/png": "[encoded data removed]",
      "text/plain": [
       "<Figure size 640x480 with 1 Axes>"
      ]
     },
     "metadata": {},
     "output_type": "display_data"
    }
   ],
   "source": [
    "import pandas as pd\n",
    "import seaborn as sns\n",
    "import matplotlib.pyplot as plt\n",
    "\n",
    "# Set the aesthetic style of the plots\n",
    "sns.set_style(\"ticks\")  # Options: white, dark, whitegrid, darkgrid, ticks\n",
    "sns.set_context(\"poster\")     # Options: paper, notebook, talk, poster\n",
    "sns.set_palette(\"bright\")   # You can also use: deep, muted, bright, dark, colorblind, or a custom list of colors\n",
    "\n",
    "# Sample data\n",
    "list1 = qlen_to_count_real\n",
    "list2 = qlen_to_count_synthetic\n",
    "\n",
    "# Convert lists to DataFrames\n",
    "df1 = pd.DataFrame(list1, columns=['length', 'Real'])\n",
    "df2 = pd.DataFrame(list2, columns=['length', 'Synthetic'])\n",
    "\n",
    "# Merge the DataFrames on 'length'\n",
    "df = pd.merge(df1, df2, on='length', how='outer').fillna(0)\n",
    "\n",
    "# Convert counts to integers\n",
    "df['Real'] = df['Real'].astype(float)\n",
    "df['Synthetic'] = df['Synthetic'].astype(float)\n",
    "\n",
    "# Melt the DataFrame for seaborn\n",
    "df_melted = df.melt(id_vars='length', value_vars=['Real', 'Synthetic'], var_name='Query', value_name='count')\n",
    "\n",
    "# Plotting\n",
    "sns.barplot(x='length', y='count', hue='Query', data=df_melted)\n",
    "plt.xlabel('Query length in words')\n",
    "plt.ylabel('% Queries')\n",
    "# plt.title('Query Length vs. Count')\n",
    "\n",
    "# Adding dotted lines for y-values\n",
    "y_values = [5, 10, 15, 20, 25]  # Example y-values for the dotted lines\n",
    "for y in y_values:\n",
    "    plt.axhline(y=y, color='gray', linestyle='--', linewidth=0.3)\n",
    "\n",
    "plt.savefig(\"figs/query_length_precentage.pdf\", bbox_inches=\"tight\")"
   ]
  },
  {
   "cell_type": "code",
   "execution_count": 6,
   "metadata": {},
   "outputs": [],
   "source": [
    "def get_token_count(queries):\n",
    "    qtoken_to_count = defaultdict(int)\n",
    "\n",
    "    for qtext in list(queries['qtext']):\n",
    "        qtokens = qtext.split(\" \")\n",
    "        for qtoken in qtokens:\n",
    "            qtoken_to_count[qtoken] += 1 \n",
    "    return qtoken_to_count"
   ]
  },
  {
   "cell_type": "code",
   "execution_count": 7,
   "metadata": {},
   "outputs": [],
   "source": [
    "qtoken_to_count_real = get_token_count(real_queries)\n",
    "qtoken_to_count_synthetic = get_token_count(synthetic_queries)"
   ]
  },
  {
   "cell_type": "code",
   "execution_count": null,
   "metadata": {},
   "outputs": [],
   "source": [
    "# Word Count % [Rank]\n",
    "for rank, eachelement in enumerate(sorted(qtoken_to_count_real.items(), key=lambda item: item[1], reverse=True)[0:10]):\n",
    "    word = eachelement[0]\n",
    "    count = eachelement[1]\n",
    "    percentage = round(count * 100 / sum(qtoken_to_count_real.values()), 2)\n",
    "    print(f\"{word} & {count} & {percentage}\\% & [{rank+1}] & \")"
   ]
  },
  {
   "cell_type": "code",
   "execution_count": null,
   "metadata": {},
   "outputs": [],
   "source": [
    "# qtoken_to_count_synthetic"
   ]
  },
  {
   "cell_type": "code",
   "execution_count": null,
   "metadata": {},
   "outputs": [],
   "source": [
    "# Word Count % [Rank]\n",
    "for rank, eachelement in enumerate(sorted(qtoken_to_count_synthetic.items(), key=lambda item: item[1], reverse=True)[0:30]):\n",
    "    word = eachelement[0]\n",
    "    count = eachelement[1]\n",
    "    percentage = round(count * 100 / sum(qtoken_to_count_synthetic.values()), 2)\n",
    "    print(word)\n",
    "    print(f\" {count} & {percentage}\\% & [{rank+1}] \\\\\\\\\")"
   ]
  },
  {
   "cell_type": "code",
   "execution_count": null,
   "metadata": {},
   "outputs": [],
   "source": []
  }
 ],
 "metadata": {
  "kernelspec": {
   "display_name": "base",
   "language": "python",
   "name": "python3"
  },
  "language_info": {
   "codemirror_mode": {
    "name": "ipython",
    "version": 3
   },
   "file_extension": ".py",
   "mimetype": "text/x-python",
   "name": "python",
   "nbconvert_exporter": "python",
   "pygments_lexer": "ipython3",
   "version": "3.11.5"
  }
 },
 "nbformat": 4,
 "nbformat_minor": 2
}
