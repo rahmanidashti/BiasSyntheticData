{
 "cells": [
  {
   "cell_type": "code",
   "execution_count": 28,
   "metadata": {},
   "outputs": [],
   "source": [
    "import pandas as pd\n",
    "from collections import defaultdict\n",
    "import matplotlib.pyplot as plt\n",
    "import collections\n",
    "import seaborn as sns"
   ]
  },
  {
   "cell_type": "code",
   "execution_count": 18,
   "metadata": {},
   "outputs": [],
   "source": [
    "nist_qrel_file = 'qrels/2023.qrels.pass.withDupes.txt'\n",
    "dl_2023_queries = \"dl-2023-queries.tsv\""
   ]
  },
  {
   "cell_type": "code",
   "execution_count": 19,
   "metadata": {},
   "outputs": [
    {
     "data": {
      "text/html": [
       "<div>\n",
       "<style scoped>\n",
       "    .dataframe tbody tr th:only-of-type {\n",
       "        vertical-align: middle;\n",
       "    }\n",
       "\n",
       "    .dataframe tbody tr th {\n",
       "        vertical-align: top;\n",
       "    }\n",
       "\n",
       "    .dataframe thead th {\n",
       "        text-align: right;\n",
       "    }\n",
       "</style>\n",
       "<table border=\"1\" class=\"dataframe\">\n",
       "  <thead>\n",
       "    <tr style=\"text-align: right;\">\n",
       "      <th></th>\n",
       "      <th>qid</th>\n",
       "      <th>qtext</th>\n",
       "    </tr>\n",
       "  </thead>\n",
       "  <tbody>\n",
       "    <tr>\n",
       "      <th>0</th>\n",
       "      <td>2000138</td>\n",
       "      <td>How does the process of digestion and metaboli...</td>\n",
       "    </tr>\n",
       "    <tr>\n",
       "      <th>1</th>\n",
       "      <td>2000438</td>\n",
       "      <td>apatite definition</td>\n",
       "    </tr>\n",
       "    <tr>\n",
       "      <th>2</th>\n",
       "      <td>2000727</td>\n",
       "      <td>calculate salary from basic pay</td>\n",
       "    </tr>\n",
       "    <tr>\n",
       "      <th>3</th>\n",
       "      <td>2000882</td>\n",
       "      <td>cerebellar disease definition</td>\n",
       "    </tr>\n",
       "    <tr>\n",
       "      <th>4</th>\n",
       "      <td>2001010</td>\n",
       "      <td>cost comparison of funerals in australia</td>\n",
       "    </tr>\n",
       "  </tbody>\n",
       "</table>\n",
       "</div>"
      ],
      "text/plain": [
       "       qid                                              qtext\n",
       "0  2000138  How does the process of digestion and metaboli...\n",
       "1  2000438                                 apatite definition\n",
       "2  2000727                    calculate salary from basic pay\n",
       "3  2000882                      cerebellar disease definition\n",
       "4  2001010           cost comparison of funerals in australia"
      ]
     },
     "execution_count": 19,
     "metadata": {},
     "output_type": "execute_result"
    }
   ],
   "source": [
    "queries = pd.read_csv(dl_2023_queries, sep='\\t', header=None, names=['qid', 'qtext'])\n",
    "queries.head()"
   ]
  },
  {
   "cell_type": "code",
   "execution_count": 20,
   "metadata": {},
   "outputs": [],
   "source": [
    "nist_qrels = pd.read_csv(nist_qrel_file, sep=' ', header=None, names=['qid', 'Q0', 'docid', 'rel'])\n",
    "queries_judged = set(nist_qrels['qid'])\n",
    "real_queries_judged = [x for x in queries_judged if x < 3000000]\n",
    "t5_queries_judged = [x for x in queries_judged if x > 3000000 and x < 3100000]\n",
    "gpt4_queries_judged = [x for x in queries_judged if x > 3100000]"
   ]
  },
  {
   "cell_type": "code",
   "execution_count": 21,
   "metadata": {},
   "outputs": [],
   "source": [
    "# getting real queries\n",
    "real_queries = queries[queries['qid'].isin(real_queries_judged)]\n",
    "synthetic_queries = queries[queries['qid'].isin(t5_queries_judged + gpt4_queries_judged)]"
   ]
  },
  {
   "cell_type": "code",
   "execution_count": 22,
   "metadata": {},
   "outputs": [],
   "source": [
    "def get_query_length(queries):\n",
    "    qlen_to_count = defaultdict(int)\n",
    "\n",
    "    for eachline in queries.itertuples(index=True):\n",
    "        qid, qtext = eachline.qid, eachline.qtext\n",
    "        qlen = len(qtext.split(\" \"))\n",
    "        qlen_to_count[qlen] += 1 \n",
    "    return qlen_to_count"
   ]
  },
  {
   "cell_type": "code",
   "execution_count": 23,
   "metadata": {},
   "outputs": [],
   "source": [
    "qlen_to_count_real = get_query_length(real_queries)\n",
    "qlen_to_count_synthetic = get_query_length(synthetic_queries)"
   ]
  },
  {
   "cell_type": "code",
   "execution_count": 24,
   "metadata": {},
   "outputs": [],
   "source": [
    "for qlen, qcount in qlen_to_count_real.items():\n",
    "    precentage = round(qcount * 100 / sum(qlen_to_count_real.values()), 2)\n",
    "    qlen_to_count_real[qlen] = precentage"
   ]
  },
  {
   "cell_type": "code",
   "execution_count": 25,
   "metadata": {},
   "outputs": [],
   "source": [
    "for qlen, qcount in qlen_to_count_synthetic.items():\n",
    "    precentage = round(qcount * 100 / sum(qlen_to_count_synthetic.values()), 2)\n",
    "    qlen_to_count_synthetic[qlen] = precentage"
   ]
  },
  {
   "cell_type": "code",
   "execution_count": 26,
   "metadata": {},
   "outputs": [
    {
     "data": {
      "text/plain": [
       "[(2, 5.19),\n",
       " (3, 1.3),\n",
       " (4, 14.85),\n",
       " (5, 14.18),\n",
       " (6, 19.61),\n",
       " (7, 12.04),\n",
       " (8, 8.03),\n",
       " (9, 1.27),\n",
       " (10, 1.27),\n",
       " (14, 1.28)]"
      ]
     },
     "execution_count": 26,
     "metadata": {},
     "output_type": "execute_result"
    }
   ],
   "source": [
    "qlen_to_count_real = sorted(qlen_to_count_real.items())\n",
    "qlen_to_count_real"
   ]
  },
  {
   "cell_type": "code",
   "execution_count": 27,
   "metadata": {},
   "outputs": [
    {
     "data": {
      "text/plain": [
       "[(4, 7.73),\n",
       " (5, 1.97),\n",
       " (6, 12.53),\n",
       " (7, 12.9),\n",
       " (8, 6.33),\n",
       " (9, 1.8),\n",
       " (10, 4.74),\n",
       " (11, 3.55),\n",
       " (12, 4.94),\n",
       " (13, 6.92),\n",
       " (15, 1.6)]"
      ]
     },
     "execution_count": 27,
     "metadata": {},
     "output_type": "execute_result"
    }
   ],
   "source": [
    "qlen_to_count_synthetic = sorted(qlen_to_count_synthetic.items())\n",
    "qlen_to_count_synthetic"
   ]
  },
  {
   "cell_type": "code",
   "execution_count": null,
   "metadata": {},
   "outputs": [],
   "source": [
    "# Set the aesthetic style of the plots\n",
    "sns.set_style(\"ticks\")  # Options: white, dark, whitegrid, darkgrid, ticks\n",
    "sns.set_context(\"poster\")     # Options: paper, notebook, talk, poster\n",
    "sns.set_palette(\"bright\")   # You can also use: deep, muted, bright, dark, colorblind, or a custom list of colors\n",
    "\n",
    "# Sample data\n",
    "list1 = qlen_to_count_real\n",
    "list2 = qlen_to_count_synthetic\n",
    "\n",
    "# Convert lists to DataFrames\n",
    "df1 = pd.DataFrame(list1, columns=['length', 'Real'])\n",
    "df2 = pd.DataFrame(list2, columns=['length', 'Synthetic'])\n",
    "\n",
    "# Merge the DataFrames on 'length'\n",
    "df = pd.merge(df1, df2, on='length', how='outer').fillna(0)\n",
    "\n",
    "# Convert counts to integers\n",
    "df['Real'] = df['Real'].astype(float)\n",
    "df['Synthetic'] = df['Synthetic'].astype(float)\n",
    "\n",
    "# Melt the DataFrame for seaborn\n",
    "df_melted = df.melt(id_vars='length', value_vars=['Real', 'Synthetic'], var_name='Query', value_name='count')\n",
    "\n",
    "# Plotting\n",
    "sns.barplot(x='length', y='count', hue='Query', data=df_melted)\n",
    "plt.xlabel('Query length in words')\n",
    "plt.ylabel('% Queries')\n",
    "# plt.title('Query Length vs. Count')\n",
    "\n",
    "# Adding dotted lines for y-values\n",
    "y_values = [5, 10, 15, 20, 25]  # Example y-values for the dotted lines\n",
    "for y in y_values:\n",
    "    plt.axhline(y=y, color='gray', linestyle='--', linewidth=0.3)\n",
    "\n",
    "plt.savefig(\"figs/query_length_precentage.pdf\", bbox_inches=\"tight\")"
   ]
  },
  {
   "cell_type": "code",
   "execution_count": 29,
   "metadata": {},
   "outputs": [],
   "source": [
    "def get_token_count(queries):\n",
    "    qtoken_to_count = defaultdict(int)\n",
    "\n",
    "    for qtext in list(queries['qtext']):\n",
    "        qtokens = qtext.split(\" \")\n",
    "        for qtoken in qtokens:\n",
    "            qtoken_to_count[qtoken] += 1 \n",
    "    return qtoken_to_count"
   ]
  },
  {
   "cell_type": "code",
   "execution_count": 30,
   "metadata": {},
   "outputs": [],
   "source": [
    "qtoken_to_count_real = get_token_count(real_queries)\n",
    "qtoken_to_count_synthetic = get_token_count(synthetic_queries)"
   ]
  },
  {
   "cell_type": "code",
   "execution_count": 31,
   "metadata": {},
   "outputs": [
    {
     "name": "stdout",
     "output_type": "stream",
     "text": [
      "what & 21 & 7.14\\% & [1] & \n",
      "is & 14 & 4.76\\% & [2] & \n",
      "how & 13 & 4.42\\% & [3] & \n",
      "of & 9 & 3.06\\% & [4] & \n",
      "in & 8 & 2.72\\% & [5] & \n",
      "to & 8 & 2.72\\% & [6] & \n",
      "a & 7 & 2.38\\% & [7] & \n",
      "the & 7 & 2.38\\% & [8] & \n",
      "does & 4 & 1.36\\% & [9] & \n",
      "did & 4 & 1.36\\% & [10] & \n"
     ]
    }
   ],
   "source": [
    "# Word Count % [Rank]\n",
    "for rank, eachelement in enumerate(sorted(qtoken_to_count_real.items(), key=lambda item: item[1], reverse=True)[0:10]):\n",
    "    word = eachelement[0]\n",
    "    count = eachelement[1]\n",
    "    percentage = round(count * 100 / sum(qtoken_to_count_real.values()), 2)\n",
    "    print(f\"{word} & {count} & {percentage}\\% & [{rank+1}] & \")"
   ]
  },
  {
   "cell_type": "code",
   "execution_count": 32,
   "metadata": {},
   "outputs": [
    {
     "name": "stdout",
     "output_type": "stream",
     "text": [
      "the\n",
      " 15 & 5.62\\% & [1] \\\\\n",
      "What\n",
      " 10 & 3.75\\% & [2] \\\\\n",
      "in\n",
      " 7 & 2.62\\% & [3] \\\\\n",
      "of\n",
      " 7 & 2.62\\% & [4] \\\\\n",
      "what\n",
      " 6 & 2.25\\% & [5] \\\\\n",
      "does\n",
      " 6 & 2.25\\% & [6] \\\\\n",
      "is\n",
      " 6 & 2.25\\% & [7] \\\\\n",
      "a\n",
      " 6 & 2.25\\% & [8] \\\\\n",
      "and\n",
      " 6 & 2.25\\% & [9] \\\\\n",
      "do\n",
      " 4 & 1.5\\% & [10] \\\\\n",
      "are\n",
      " 4 & 1.5\\% & [11] \\\\\n",
      "how\n",
      " 3 & 1.12\\% & [12] \\\\\n",
      "to\n",
      " 3 & 1.12\\% & [13] \\\\\n",
      "for\n",
      " 3 & 1.12\\% & [14] \\\\\n",
      "with\n",
      " 3 & 1.12\\% & [15] \\\\\n",
      "How\n",
      " 3 & 1.12\\% & [16] \\\\\n",
      "stand\n",
      " 2 & 0.75\\% & [17] \\\\\n",
      "you\n",
      " 2 & 0.75\\% & [18] \\\\\n",
      "who\n",
      " 2 & 0.75\\% & [19] \\\\\n",
      "your\n",
      " 2 & 0.75\\% & [20] \\\\\n",
      "mean\n",
      " 2 & 0.75\\% & [21] \\\\\n",
      "number\n",
      " 2 & 0.75\\% & [22] \\\\\n",
      "name\n",
      " 2 & 0.75\\% & [23] \\\\\n",
      "affect\n",
      " 2 & 0.75\\% & [24] \\\\\n",
      "Class\n",
      " 2 & 0.75\\% & [25] \\\\\n",
      "some\n",
      " 2 & 0.75\\% & [26] \\\\\n",
      "cook\n",
      " 1 & 0.37\\% & [27] \\\\\n",
      "thin\n",
      " 1 & 0.37\\% & [28] \\\\\n",
      "sliced\n",
      " 1 & 0.37\\% & [29] \\\\\n",
      "home\n",
      " 1 & 0.37\\% & [30] \\\\\n"
     ]
    }
   ],
   "source": [
    "# Word Count % [Rank]\n",
    "for rank, eachelement in enumerate(sorted(qtoken_to_count_synthetic.items(), key=lambda item: item[1], reverse=True)[0:30]):\n",
    "    word = eachelement[0]\n",
    "    count = eachelement[1]\n",
    "    percentage = round(count * 100 / sum(qtoken_to_count_synthetic.values()), 2)\n",
    "    print(word)\n",
    "    print(f\" {count} & {percentage}\\% & [{rank+1}] \\\\\\\\\")"
   ]
  },
  {
   "cell_type": "code",
   "execution_count": 37,
   "metadata": {},
   "outputs": [
    {
     "data": {
      "image/png": "[encoded data removed]",
      "text/plain": [
       "<Figure size 1000x600 with 1 Axes>"
      ]
     },
     "metadata": {},
     "output_type": "display_data"
    }
   ],
   "source": [
    "# Set the aesthetic style of the plots\n",
    "sns.set_style(\"ticks\")  # Options: white, dark, whitegrid, darkgrid, ticks\n",
    "sns.set_context(\"poster\")     # Options: paper, notebook, talk, poster\n",
    "sns.set_palette(\"bright\")   # You can also use: deep, muted, bright, dark, colorblind, or a custom list of colors\n",
    "\n",
    "# Sample data based on the description\n",
    "# Let's assume you have a dictionary of query terms with their frequencies\n",
    "query_freq_real = qtoken_to_count_real\n",
    "frequencies_real = list(query_freq_real.values())\n",
    "frequency_count_real = collections.Counter(frequencies_real)\n",
    "sorted_freq_real = sorted(frequency_count_real.items())\n",
    "x_real, y_real = zip(*sorted_freq_real)\n",
    "\n",
    "query_freq_synthetic = qtoken_to_count_synthetic\n",
    "frequencies_synthetic = list(query_freq_synthetic.values())\n",
    "frequency_count_synthetic = collections.Counter(frequencies_synthetic)\n",
    "sorted_freq_synthetic = sorted(frequency_count_synthetic.items())\n",
    "x_synthetic, y_synthetic = zip(*sorted_freq_synthetic)\n",
    "\n",
    "# Plotting\n",
    "plt.figure(figsize=(10, 6))\n",
    "# plt.scatter(x, y)\n",
    "plt.scatter(x_real, y_real, color='blue', alpha=0.8, edgecolors='w', s=40)\n",
    "plt.scatter(x_synthetic, y_synthetic, color='red', alpha=0.8, edgecolors='w', s=40)\n",
    "plt.yscale('log')\n",
    "plt.xscale('log')\n",
    "plt.xlabel('Query frequency of term')\n",
    "plt.ylabel('Count')\n",
    "# plt.title('Distribution of Query Term Frequencies')\n",
    "# plt.grid(True)\n",
    "plt.show()"
   ]
  },
  {
   "cell_type": "code",
   "execution_count": null,
   "metadata": {},
   "outputs": [],
   "source": []
  }
 ],
 "metadata": {
  "kernelspec": {
   "display_name": "base",
   "language": "python",
   "name": "python3"
  },
  "language_info": {
   "codemirror_mode": {
    "name": "ipython",
    "version": 3
   },
   "file_extension": ".py",
   "mimetype": "text/x-python",
   "name": "python",
   "nbconvert_exporter": "python",
   "pygments_lexer": "ipython3",
   "version": "3.11.5"
  }
 },
 "nbformat": 4,
 "nbformat_minor": 2
}
