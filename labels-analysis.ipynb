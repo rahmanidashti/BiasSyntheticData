{
 "cells": [
  {
   "cell_type": "markdown",
   "metadata": {},
   "source": [
    "# LLM Judgment - Human Judgment as a Target\n",
    "\n",
    "This experiments applied the signed differecnes of LLM labels and human labels as a target for analysis the features."
   ]
  },
  {
   "cell_type": "code",
   "execution_count": 2,
   "metadata": {},
   "outputs": [],
   "source": [
    "import pandas as pd\n",
    "import glob\n",
    "import numpy as np\n",
    "import matplotlib.pyplot as plt\n",
    "import seaborn as sns"
   ]
  },
  {
   "cell_type": "markdown",
   "metadata": {},
   "source": [
    "### Data"
   ]
  },
  {
   "cell_type": "code",
   "execution_count": 3,
   "metadata": {},
   "outputs": [],
   "source": [
    "qrels = glob.glob(f'./qrels/*.txt')"
   ]
  },
  {
   "cell_type": "code",
   "execution_count": 4,
   "metadata": {},
   "outputs": [
    {
     "data": {
      "text/html": [
       "<div>\n",
       "<style scoped>\n",
       "    .dataframe tbody tr th:only-of-type {\n",
       "        vertical-align: middle;\n",
       "    }\n",
       "\n",
       "    .dataframe tbody tr th {\n",
       "        vertical-align: top;\n",
       "    }\n",
       "\n",
       "    .dataframe thead th {\n",
       "        text-align: right;\n",
       "    }\n",
       "</style>\n",
       "<table border=\"1\" class=\"dataframe\">\n",
       "  <thead>\n",
       "    <tr style=\"text-align: right;\">\n",
       "      <th></th>\n",
       "      <th>qid</th>\n",
       "      <th>docid</th>\n",
       "      <th>score</th>\n",
       "      <th>judged_by</th>\n",
       "    </tr>\n",
       "  </thead>\n",
       "  <tbody>\n",
       "    <tr>\n",
       "      <th>0</th>\n",
       "      <td>2001010</td>\n",
       "      <td>msmarco_passage_00_257661787</td>\n",
       "      <td>0</td>\n",
       "      <td>withDupes</td>\n",
       "    </tr>\n",
       "    <tr>\n",
       "      <th>1</th>\n",
       "      <td>2001010</td>\n",
       "      <td>msmarco_passage_00_257662430</td>\n",
       "      <td>0</td>\n",
       "      <td>withDupes</td>\n",
       "    </tr>\n",
       "    <tr>\n",
       "      <th>2</th>\n",
       "      <td>2001010</td>\n",
       "      <td>msmarco_passage_00_257664103</td>\n",
       "      <td>0</td>\n",
       "      <td>withDupes</td>\n",
       "    </tr>\n",
       "    <tr>\n",
       "      <th>3</th>\n",
       "      <td>2001010</td>\n",
       "      <td>msmarco_passage_00_729310942</td>\n",
       "      <td>0</td>\n",
       "      <td>withDupes</td>\n",
       "    </tr>\n",
       "    <tr>\n",
       "      <th>4</th>\n",
       "      <td>2001010</td>\n",
       "      <td>msmarco_passage_00_729315698</td>\n",
       "      <td>1</td>\n",
       "      <td>withDupes</td>\n",
       "    </tr>\n",
       "    <tr>\n",
       "      <th>...</th>\n",
       "      <td>...</td>\n",
       "      <td>...</td>\n",
       "      <td>...</td>\n",
       "      <td>...</td>\n",
       "    </tr>\n",
       "    <tr>\n",
       "      <th>22322</th>\n",
       "      <td>3100922</td>\n",
       "      <td>msmarco_passage_61_425158788</td>\n",
       "      <td>1</td>\n",
       "      <td>gpt4</td>\n",
       "    </tr>\n",
       "    <tr>\n",
       "      <th>22323</th>\n",
       "      <td>3100922</td>\n",
       "      <td>msmarco_passage_64_139007780</td>\n",
       "      <td>0</td>\n",
       "      <td>gpt4</td>\n",
       "    </tr>\n",
       "    <tr>\n",
       "      <th>22324</th>\n",
       "      <td>3100922</td>\n",
       "      <td>msmarco_passage_67_28012312</td>\n",
       "      <td>0</td>\n",
       "      <td>gpt4</td>\n",
       "    </tr>\n",
       "    <tr>\n",
       "      <th>22325</th>\n",
       "      <td>3100922</td>\n",
       "      <td>msmarco_passage_67_95950055</td>\n",
       "      <td>0</td>\n",
       "      <td>gpt4</td>\n",
       "    </tr>\n",
       "    <tr>\n",
       "      <th>22326</th>\n",
       "      <td>3100922</td>\n",
       "      <td>msmarco_passage_68_194985280</td>\n",
       "      <td>0</td>\n",
       "      <td>gpt4</td>\n",
       "    </tr>\n",
       "  </tbody>\n",
       "</table>\n",
       "<p>44654 rows × 4 columns</p>\n",
       "</div>"
      ],
      "text/plain": [
       "           qid                         docid  score  judged_by\n",
       "0      2001010  msmarco_passage_00_257661787      0  withDupes\n",
       "1      2001010  msmarco_passage_00_257662430      0  withDupes\n",
       "2      2001010  msmarco_passage_00_257664103      0  withDupes\n",
       "3      2001010  msmarco_passage_00_729310942      0  withDupes\n",
       "4      2001010  msmarco_passage_00_729315698      1  withDupes\n",
       "...        ...                           ...    ...        ...\n",
       "22322  3100922  msmarco_passage_61_425158788      1       gpt4\n",
       "22323  3100922  msmarco_passage_64_139007780      0       gpt4\n",
       "22324  3100922   msmarco_passage_67_28012312      0       gpt4\n",
       "22325  3100922   msmarco_passage_67_95950055      0       gpt4\n",
       "22326  3100922  msmarco_passage_68_194985280      0       gpt4\n",
       "\n",
       "[44654 rows x 4 columns]"
      ]
     },
     "execution_count": 4,
     "metadata": {},
     "output_type": "execute_result"
    }
   ],
   "source": [
    "qrels_df_list = []\n",
    "\n",
    "for infile in qrels:\n",
    "    judger = infile.split('/')[2].split('.')[3]\n",
    "    result_df = pd.read_csv(infile, sep=' ', header=None, names=['qid', 'Q0', 'docid', 'score'])\n",
    "    result_df.drop(['Q0'], axis=1, inplace=True)\n",
    "    result_df['judged_by'] = judger\n",
    "    result_df['qid'] = result_df['qid'].astype(int)\n",
    "    result_df['score'] = result_df['score'].astype(int)\n",
    "    qrels_df_list.append(result_df)\n",
    " \n",
    "qrels_df = pd.concat(qrels_df_list)\n",
    "qrels_df"
   ]
  },
  {
   "cell_type": "code",
   "execution_count": 5,
   "metadata": {},
   "outputs": [],
   "source": [
    "qid_to_info = pd.read_csv(\"infos/query_to_info.txt\", sep='\\t')\n",
    "qrels_df = pd.merge(qrels_df, qid_to_info, on='qid')"
   ]
  },
  {
   "cell_type": "code",
   "execution_count": 6,
   "metadata": {},
   "outputs": [],
   "source": [
    "qrels_df['judged_by'] = qrels_df['judged_by'].replace({'withDupes': 'Human', 'gpt4': 'GPT-4'})"
   ]
  },
  {
   "cell_type": "code",
   "execution_count": 7,
   "metadata": {},
   "outputs": [],
   "source": [
    "# add a new column called 'QT' and the values are \"Real\" if Synthetic is 0 and isGPT is 0, \"T5\" if Synthetic is 1 and isGPT is 0, \n",
    "# \"GPT-4\" if Synthetic is 0 and isGPT is 1\n",
    "qrels_df['QT'] = np.where((qrels_df['Synthetic'] == 0) & (qrels_df['isGPT4'] == 0), 'Real',\n",
    "                          np.where((qrels_df['Synthetic'] == 1) & (qrels_df['isGPT4'] == 0), 'T5', 'GPT-4'))"
   ]
  },
  {
   "cell_type": "code",
   "execution_count": 8,
   "metadata": {},
   "outputs": [
    {
     "name": "stderr",
     "output_type": "stream",
     "text": [
      "/var/folders/y2/4_f9ys2n43x8fl_s39w55ytw0000gn/T/ipykernel_44605/3311959013.py:2: SettingWithCopyWarning: \n",
      "A value is trying to be set on a copy of a slice from a DataFrame.\n",
      "Try using .loc[row_indexer,col_indexer] = value instead\n",
      "\n",
      "See the caveats in the documentation: https://pandas.pydata.org/pandas-docs/stable/user_guide/indexing.html#returning-a-view-versus-a-copy\n",
      "  df['score'] = df['score'].astype('category')\n",
      "/Users/saeed/anaconda3/lib/python3.11/site-packages/seaborn/axisgrid.py:123: UserWarning: The figure layout has changed to tight\n",
      "  self._figure.tight_layout(*args, **kwargs)\n"
     ]
    },
    {
     "data": {
      "image/png": "[encoded data removed]",
      "text/plain": [
       "<Figure size 1667x500 with 3 Axes>"
      ]
     },
     "metadata": {},
     "output_type": "display_data"
    }
   ],
   "source": [
    "df = qrels_df[['score', 'judged_by', 'QW', 'QT']]\n",
    "df['score'] = df['score'].astype('category')\n",
    "\n",
    "sns.set_style(\"ticks\")  # Options: white, dark, whitegrid, darkgrid, ticks\n",
    "sns.set_context(\"poster\", font_scale =0.8)     # Options: paper, notebook, talk, poster\n",
    "sns.set_palette(\"bright\")   # You can also use: deep, muted, bright, dark, colorblind, or a custom list of colors\n",
    "\n",
    "# Create a FacetGrid for the label type\n",
    "g = sns.FacetGrid(df, col=\"QT\", hue=\"judged_by\", height=5)\n",
    "\n",
    "# Add a histogram to the FacetGrid\n",
    "g.map(sns.histplot, 'score', stat=\"proportion\", hue = 'judged_by', multiple='dodge', shrink = .8, common_norm=False, data = df)\n",
    "\n",
    "# Adjust the titles and labels\n",
    "g.add_legend()\n",
    "g.set_axis_labels(\"\", \"Proportion\", fontsize=22)\n",
    "g.set_titles(col_template=\"{col_name}\", fontsize=22)\n",
    "\n",
    "titles = ['Labels for Human Queries', 'Labels for T5 Queries', 'Labels for GPT-4 Queries']\n",
    "\n",
    "for ax, title in zip(g.axes.flatten(), titles):\n",
    "    ax.set_title(title)\n",
    "    \n",
    "sns.move_legend(g, ncol=3, loc='upper center', title = '')\n",
    "\n",
    "# Adjust layout\n",
    "plt.subplots_adjust(top=0.8)\n",
    "# plt.legend(fontsize=19, ncol=2, loc='upper center')\n",
    "# Show the plot\n",
    "plt.xticks([0, 1, 2, 3])  # Set y-ticks to 0, 1, 2, 3\n",
    "plt.savefig(\"figs/label_barplots.pdf\", bbox_inches=\"tight\")"
   ]
  },
  {
   "cell_type": "code",
   "execution_count": null,
   "metadata": {},
   "outputs": [],
   "source": []
  }
 ],
 "metadata": {
  "kernelspec": {
   "display_name": "base",
   "language": "python",
   "name": "python3"
  },
  "language_info": {
   "codemirror_mode": {
    "name": "ipython",
    "version": 3
   },
   "file_extension": ".py",
   "mimetype": "text/x-python",
   "name": "python",
   "nbconvert_exporter": "python",
   "pygments_lexer": "ipython3",
   "version": "3.11.5"
  }
 },
 "nbformat": 4,
 "nbformat_minor": 2
}
