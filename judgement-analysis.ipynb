{
 "cells": [
  {
   "cell_type": "markdown",
   "metadata": {},
   "source": [
    "# Autometic Judgment Analysis"
   ]
  },
  {
   "cell_type": "code",
   "execution_count": null,
   "metadata": {},
   "outputs": [],
   "source": [
    "import pandas as pd\n",
    "import json\n",
    "import gzip\n",
    "from tqdm import tqdm"
   ]
  },
  {
   "cell_type": "code",
   "execution_count": null,
   "metadata": {},
   "outputs": [],
   "source": [
    "nist_qrel_file = 'qrels/2023.qrels.pass.withDupes.txt'\n",
    "gpt4_qrel_file = 'qrels/2023.qrels.pass.gpt4.txt'\n",
    "dl_2023_queries = 'queries/dl-2023-queries.tsv'"
   ]
  },
  {
   "cell_type": "markdown",
   "metadata": {},
   "source": [
    "## Loading Judgments"
   ]
  },
  {
   "cell_type": "code",
   "execution_count": null,
   "metadata": {},
   "outputs": [],
   "source": [
    "# loading judged queries\n",
    "nist_qrels = pd.read_csv(nist_qrel_file, sep=' ', header=None, names=['qid', 'Q0', 'docid', 'rel'])\n",
    "# loading judged queries - GPT-4\n",
    "gpt4_qrels = pd.read_csv(gpt4_qrel_file, sep=' ', header=None, names=['qid', 'Q0', 'docid', 'rel'])"
   ]
  },
  {
   "cell_type": "markdown",
   "metadata": {},
   "source": [
    "## Bland Altman Plot"
   ]
  },
  {
   "cell_type": "code",
   "execution_count": null,
   "metadata": {},
   "outputs": [],
   "source": [
    "import seaborn as sns\n",
    "\n",
    "# Set the aesthetic style of the plots\n",
    "sns.set_style(\"ticks\")  # Options: white, dark, whitegrid, darkgrid, ticks\n",
    "sns.set_context(\"poster\")     # Options: paper, notebook, talk, poster\n",
    "sns.set_palette(\"bright\")   # You can also use: deep, muted, bright, dark, colorblind, or a custom list of colors"
   ]
  },
  {
   "cell_type": "code",
   "execution_count": null,
   "metadata": {},
   "outputs": [],
   "source": [
    "human_scores = nist_qrels['rel']\n",
    "llm_scores = gpt4_qrels['rel']"
   ]
  },
  {
   "cell_type": "code",
   "execution_count": null,
   "metadata": {},
   "outputs": [],
   "source": [
    "import numpy as np\n",
    "import matplotlib.pyplot as plt\n",
    "from collections import Counter\n",
    "\n",
    "# Calculate mean scores and differences\n",
    "mean_scores = (human_scores + llm_scores) / 2\n",
    "differences = llm_scores - human_scores\n",
    "\n",
    "# Combine mean scores and differences into tuples for counting\n",
    "points = list(zip(mean_scores, differences))\n",
    "\n",
    "# Count the frequency of each unique point\n",
    "point_counts = Counter(points)\n",
    "\n",
    "# Extract unique points and their counts\n",
    "unique_points = np.array(list(point_counts.keys()))\n",
    "frequencies = np.array(list(point_counts.values()))\n",
    "\n",
    "# Calculate percentages\n",
    "total_points = len(points)\n",
    "percentages = (frequencies / total_points) * 100\n",
    "\n",
    "# Create Bland-Altman plot with point sizes indicating density\n",
    "plt.figure(figsize=(10, 6))\n",
    "\n",
    "# Scatter plot with point size based on frequency\n",
    "plt.scatter(unique_points[:, 0], unique_points[:, 1], s=frequencies * 1.5, alpha=0.6, edgecolors='w', linewidth=0.5)\n",
    "\n",
    "# Optionally add text annotations for percentage\n",
    "for (x, y), percentage in zip(unique_points, percentages):\n",
    "    if percentage > 1:  # Only annotate if the percentage is greater than 1%\n",
    "        plt.text(x, y, f'{percentage:.1f}%', fontsize=18, ha='center', va='center', color='black')\n",
    "\n",
    "# Add lines for mean difference and limits of agreement\n",
    "mean_diff = np.mean(differences)\n",
    "std_diff = np.std(differences)\n",
    "\n",
    "plt.axhline(mean_diff, color='red', linestyle='--', label=f'Bias: {mean_diff:.2f}')\n",
    "plt.axhline(mean_diff + 1.96*std_diff, color='gray', linestyle='--', label='95% Limits of Agreement')\n",
    "plt.axhline(mean_diff - 1.96*std_diff, color='gray', linestyle='--')\n",
    "\n",
    "plt.xlabel('Mean of Human and Synthetic Scores')\n",
    "plt.ylabel('Difference (Synthetic - Human)')\n",
    "# plt.title('Bland-Altman Plot with Point Density Indication')\n",
    "plt.legend(fontsize=18)\n",
    "plt.grid(True)\n",
    "plt.savefig(\"figs/bland_altman_plot_scores_with_precentage.pdf\", bbox_inches=\"tight\")\n",
    "# plt.show()"
   ]
  },
  {
   "cell_type": "code",
   "execution_count": null,
   "metadata": {},
   "outputs": [],
   "source": []
  }
 ],
 "metadata": {
  "kernelspec": {
   "display_name": "base",
   "language": "python",
   "name": "python3"
  },
  "language_info": {
   "codemirror_mode": {
    "name": "ipython",
    "version": 3
   },
   "file_extension": ".py",
   "mimetype": "text/x-python",
   "name": "python",
   "nbconvert_exporter": "python",
   "pygments_lexer": "ipython3",
   "version": "3.11.5"
  }
 },
 "nbformat": 4,
 "nbformat_minor": 2
}
